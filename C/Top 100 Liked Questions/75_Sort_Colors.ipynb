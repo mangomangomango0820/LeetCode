{
 "cells": [
  {
   "cell_type": "markdown",
   "id": "32e3d74d",
   "metadata": {},
   "source": [
    "LeetCode | Top 100 | 75. Sort Colors"
   ]
  },
  {
   "cell_type": "markdown",
   "id": "f7a5f085",
   "metadata": {},
   "source": [
    "# Question"
   ]
  },
  {
   "cell_type": "markdown",
   "id": "1c76cab4",
   "metadata": {},
   "source": [
    "[75. Sort Colors](https://leetcode.com/problems/sort-colors/description/)"
   ]
  },
  {
   "cell_type": "markdown",
   "id": "00d0597b",
   "metadata": {},
   "source": [
    "Given an array `nums` with `n` objects colored red, white, or blue, sort them in-place so that objects of the same color are adjacent, with the colors in the order red, white, and blue.\n",
    "\n",
    "We will use the integers `0`, `1`, and `2` to represent the color red, white, and blue, respectively.\n",
    "\n",
    "You must solve this problem without using the library's sort function.\n",
    "<br><br>\n",
    "\n",
    " \n",
    "**Example 1**\n",
    "```\n",
    "Input: nums = [2,0,2,1,1,0]\n",
    "Output: [0,0,1,1,2,2]\n",
    "```\n",
    "\n",
    "**Example 2**\n",
    "```\n",
    "Input: nums = [2,0,1]\n",
    "Output: [0,1,2]\n",
    "```\n",
    "\n",
    "**Constraints**\n",
    "- `n == nums.length`\n",
    "- `1 <= n <= 300`\n",
    "- `nums[i]` is either `0`, `1`, or `2`.\n",
    "<br>\n",
    "\n",
    "**Follow up** Could you come up with a one-pass algorithm using only constant extra space?"
   ]
  },
  {
   "cell_type": "markdown",
   "id": "aa0aef01",
   "metadata": {},
   "source": [
    "# Knowledge Points"
   ]
  },
  {
   "cell_type": "markdown",
   "id": "500f0159",
   "metadata": {},
   "source": [
    "## Bubble Sort"
   ]
  },
  {
   "cell_type": "markdown",
   "id": "bc435048",
   "metadata": {},
   "source": [
    "reference: [Bubble sort in Python](https://ecomputernotes.com/python/bubble-sort-in-python)"
   ]
  },
  {
   "cell_type": "markdown",
   "id": "c3f546e6",
   "metadata": {},
   "source": [
    "<img src=\"https://www.runoob.com/wp-content/uploads/2019/03/bubbleSort.gif\"  alt=\"ImageFile\" style=\"width: 500px;\" align=\"middle\"/>"
   ]
  },
  {
   "cell_type": "markdown",
   "id": "cbbfaab3",
   "metadata": {},
   "source": [
    "<img src=\"https://ecomputernotes.com/images/Bubble-Sort-in-python.jpg\"  alt=\"ImageFile\" style=\"width: 500px;\" align=\"middle\"/>"
   ]
  },
  {
   "cell_type": "markdown",
   "id": "145413b1",
   "metadata": {},
   "source": [
    "The figure above illustrates the working of bubble sort algorithm.\n",
    "\n",
    "Bubble sort compares and swaps each pair of adjacent items if they are in the wrong order. The list is passed through until no swaps are needed, meaning that the list is sorted. The algorithm is a comparison sort, and it’s named for the `bubble` of smaller elements at the top of the list. Although the algorithm is easy, even when compared to insertion, it is too slow and impractical for most problems.\n",
    "\n",
    "I’ve enabled so what we’ll do is we take some values here to understand how bubble sort works in theory. so let’s take some values\n",
    "```\n",
    "[5 3 8 6 7 2]\n",
    "```\n",
    "\n",
    "Now we’ll sort these values, and there are a lot of sorting techniques available right almost in every sorting technique, we have one thing common, which is swapping.\n",
    "\n",
    "So basically you swap elements, so it and that’s how you will make sure that your all the values are sorted. So swapping is one of the important concepts, so make sure that you know the concept of swapping.\n",
    "\n",
    "so what we normally do is we take a third variable here so example\n",
    "\n",
    "`Swapping`\n",
    "```\n",
    "a → b\n",
    "a → t\n",
    "b → a\n",
    "t → b\n",
    "```\n",
    "If you have a and b and if you want to swap them. We will take a third variable. Let’s say t, and you will keep the value of a and t, then you will copy the value from b to a, and then you will copy the value from t to b that’s how you sort two values, and we’ll be doing that in this tutorial.\n",
    "\n",
    "We’ll compare the first two values. In this case, it is five and three. Right now you have to make sure that the smallest one comes first,\n",
    "```\n",
    "If 5 > 3 Swapped\n",
    "```\n",
    "if the first value is greater than the second value swap, in this case, it is greater, so five is greater than three. so what you will do, you will swap it so now after swapping the values are\n",
    "```\n",
    "[3 5 8 6 7 2]\n",
    "```\n",
    "Now you will go forward if you have to make sure that if the first value is greater than the second value. You then swap otherwise skip. In this case, it is smaller.\n",
    "\n",
    "We don’t have to swap now. What you will do is, you will iterate at this point.\n",
    "```\n",
    "[3 5 8 6 7 2]\n",
    "```\n",
    "Next you will compare eight and six. In this case, eight is greater than six. You have to swap as usual, after swapping you will get six and eight, so the final value you will get\n",
    "```\n",
    "[3 5 6 8 7 2]\n",
    "```\n",
    "you have to do the same thing till the end so let’s pick it quick so now you will compare eight and seven right again we know eight is greater than seven we will swap the new value we’ll get\n",
    "```\n",
    "[3 5 6 7 8 2]\n",
    "```\n",
    "the last comparison we have eight and two and of course we know we have to swap so at the end you will get\n",
    "```\n",
    "[3 5 6 7 2 8]\n",
    "```\n",
    "Now, after this iteration, which is eight at the end, you’ve got the biggest value at the end, but if anybody’s is not sorted, we have to reiterate the same thing, so it’s all about comparing and swapping.\n",
    "\n",
    "Now you will start again, and you will compare to first two values with three and five three smaller don’t have to swap then will compare five and six no need to swap then you will compare 6 and 7, or then you will compare 7 & 2 we have to swap here then it becomes 2 & 7 right, so the final values are\n",
    "```\n",
    "[3 5 6 2 7 8]\n",
    "```\n",
    "There is one thing which is important for the second iteration we are not checking for 8 because it is done, so the maximum value you have is at the end and after psychiatrists in the second last value is the second big element if you can compare the list now 7 and 8 those are the maximum values, so after second iteration you got two big values in ascending order that means after all the iterations, so the number of elements. We have 6 sorts of the fifth iteration.\n",
    "```\n",
    "[2 3 5 6 7 8]\n",
    "```\n",
    "You will get all the values sorted if you repeat the same step. That’s what bubble sort is, and that’s why we acquire two loops one for the iteration, which will make sure that you will get the biggest element at the end, and the second loop, which is the outer loop, will before do the same thing repeatedly and that’s what you have to do in this code."
   ]
  },
  {
   "cell_type": "markdown",
   "id": "d07c811d",
   "metadata": {},
   "source": [
    "## Two Pointers"
   ]
  },
  {
   "cell_type": "markdown",
   "id": "a2a3f50a",
   "metadata": {},
   "source": [
    "reference: [15_3Sum.ipynb](https://github.com/mangomangomango0820/LeetCode/blob/main/Python/Top%20100%20Liked%20Questions/15_3Sum.ipynb)"
   ]
  },
  {
   "cell_type": "markdown",
   "id": "5c8e84a0",
   "metadata": {},
   "source": [
    "# Solutions"
   ]
  },
  {
   "cell_type": "markdown",
   "id": "81f2484c",
   "metadata": {},
   "source": [
    "## Bubble Sort"
   ]
  },
  {
   "cell_type": "markdown",
   "id": "dd098d08",
   "metadata": {},
   "source": [
    "- [x] 1. iterarte over range `(0, numsSize-1)` by `i`;\n",
    "- [x] 2. set a flag named `isSorted`: if `isSorted=1`, it means every element in the list is sorted; else, it needs more sorting;\n",
    "- [x] 3. iterate over range `(0, numsSize-1-i)`, because the last `i` elements should have been sorted as expected;\n",
    "- [x] 4. if `nums[j]>nums[j+1]`, it still needs more sorting, set `isSorted` to `0`;\n",
    "- [x] 5. if `isSorted=1`, sorting has done, it is time to jump out of the loop;"
   ]
  },
  {
   "cell_type": "code",
   "execution_count": 12,
   "id": "6a08103b",
   "metadata": {},
   "outputs": [
    {
     "name": "stdout",
     "output_type": "stream",
     "text": [
      "Nr.0: 0\n",
      "Nr.1: 0\n",
      "Nr.2: 1\n",
      "Nr.3: 1\n",
      "Nr.4: 2\n",
      "Nr.5: 2\n"
     ]
    }
   ],
   "source": [
    "#include <stdio.h>\n",
    "\n",
    "void sortColors(int* nums, int numsSize){\n",
    "    int i, j, temp, isSorted;\n",
    "    for (i=0; i<numsSize-1; i++){                  // 1\n",
    "        isSorted = 1;                              // 2\n",
    "        for (j=0; j<numsSize-1-i;j++){             // 3\n",
    "            if (nums[j]>nums[j+1]){                // 4\n",
    "                temp=nums[j];\n",
    "                nums[j]=nums[j+1];\n",
    "                nums[j+1]=temp;\n",
    "                isSorted = 0;                      \n",
    "            }\n",
    "        }\n",
    "        if (isSorted) break;                       // 5\n",
    "    }\n",
    "}\n",
    "\n",
    "int main(){\n",
    "    int nums[]={2,0,2,1,1,0};\n",
    "    int numsSize=sizeof(nums)/sizeof(*nums);\n",
    "    sortColors(nums, numsSize);\n",
    "\n",
    "    int i;\n",
    "    for (i=0; i<numsSize; i++){                   // print out result one by one;\n",
    "        printf(\"Nr.%d: %d\\n\", i, nums[i]);\n",
    "    }\n",
    "\n",
    "    return 0;\n",
    "}"
   ]
  },
  {
   "cell_type": "markdown",
   "id": "2cb05dcb",
   "metadata": {},
   "source": [
    "## Two pointers"
   ]
  },
  {
   "cell_type": "markdown",
   "id": "4f501b62",
   "metadata": {},
   "source": [
    "reference: [One pass O(n) time O(1) space | 3-pointer approach](https://leetcode.com/problems/sort-colors/solutions/1078865/one-pass-o-n-time-o-1-space-3-pointer-approach/?orderBy=most_votes&languageTags=python3)"
   ]
  },
  {
   "cell_type": "markdown",
   "id": "140d4f70",
   "metadata": {},
   "source": [
    "- [x] 1. clarify left index `l` of list `nums` with `0`, right index `r` with `numsSize-1` and middle index `m` with `0`;\n",
    "- [x] 2. while middle index `m` is smaller than or equal with right index `r`, or, `m` is at the left side of `r`:<br>\n",
    "2.1 if `nums[m]==2`, swap `nums[m]` with `nums[r]`. Now, `nums[r]==2`, `r`th value in `nums` has been sorted, so `r--` to move right boundary to its left, shrink iteration index range;<br>\n",
    "2.2 if `nums[m]==0`, swap `nums[m]` with `nums[l]`. Now, `nums[l]==0`, `l`th value in `nums` has been sorted, so `l++` and `m++` to move left boundary to its right, shrink iteration index range;<br>\n",
    "2.3 if `nums[m]==1`, need not to do any swap, `m++` to move right to next target element;"
   ]
  },
  {
   "cell_type": "code",
   "execution_count": 16,
   "id": "28d446c5",
   "metadata": {},
   "outputs": [
    {
     "name": "stdout",
     "output_type": "stream",
     "text": [
      "Nr.0: 0\n",
      "Nr.1: 0\n",
      "Nr.2: 1\n",
      "Nr.3: 1\n",
      "Nr.4: 2\n",
      "Nr.5: 2\n"
     ]
    }
   ],
   "source": [
    "#include <stdio.h>\n",
    "\n",
    "void swap(int *a, int *b){\n",
    "    int temp;\n",
    "    temp=*a;\n",
    "    *a=*b;\n",
    "    *b=temp;\n",
    "}\n",
    "\n",
    "void sortColors(int *nums, int numsSize){\n",
    "    int l=0, m=0, r=numsSize-1;                    // 1\n",
    "    while (m<=r){                                  // 2\n",
    "        if (nums[m]==2){                           // 2.1\n",
    "            swap(&nums[r--], &nums[m]);\n",
    "        }else if (nums[m]==0) {                    // 2.2 \n",
    "            swap(&nums[m++], &nums[l++]);\n",
    "        }else{                                     // 2.3 \n",
    "            m++;\n",
    "        }\n",
    "    }\n",
    "}\n",
    "\n",
    "int main(){\n",
    "    int nums[]={2,0,2,1,1,0};\n",
    "    int i, numsSize=sizeof(nums)/sizeof(int);\n",
    "    sortColors(nums, numsSize);\n",
    "\n",
    "    for (i=0; i<numsSize;i++){\n",
    "        printf(\"Nr.%d: %d\\n\", i, nums[i]);\n",
    "    }\n",
    "}"
   ]
  }
 ],
 "metadata": {
  "kernelspec": {
   "display_name": "C",
   "language": "c",
   "name": "c"
  },
  "language_info": {
   "file_extension": ".c",
   "mimetype": "text/plain",
   "name": "c"
  },
  "toc": {
   "base_numbering": 1,
   "nav_menu": {},
   "number_sections": true,
   "sideBar": true,
   "skip_h1_title": false,
   "title_cell": "Table of Contents",
   "title_sidebar": "Contents",
   "toc_cell": false,
   "toc_position": {},
   "toc_section_display": true,
   "toc_window_display": false
  }
 },
 "nbformat": 4,
 "nbformat_minor": 5
}
