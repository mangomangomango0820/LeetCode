{
 "cells": [
  {
   "cell_type": "markdown",
   "id": "4e718cae",
   "metadata": {},
   "source": [
    "LeetCode | Top 100 | 169. Majority Element"
   ]
  },
  {
   "cell_type": "markdown",
   "id": "ca34378c",
   "metadata": {},
   "source": [
    "# Question"
   ]
  },
  {
   "cell_type": "markdown",
   "id": "def0b23f",
   "metadata": {},
   "source": [
    "[169. Majority Element](https://leetcode.com/problems/majority-element/description/)"
   ]
  },
  {
   "cell_type": "markdown",
   "id": "89a78d7d",
   "metadata": {},
   "source": [
    "Given an array `nums` of size `n`, return the majority element.<br>\n",
    "The majority element is the element that appears more than `⌊n / 2⌋` times. You may assume that the majority element always exists in the array.\n",
    "\n",
    "**Example 1:**\n",
    "```\n",
    "Input: nums = [3,2,3]\n",
    "Output: 3\n",
    "```\n",
    "\n",
    "**Example 2:**\n",
    "```\n",
    "Input: nums = [2,2,1,1,1,2,2]\n",
    "Output: 2\n",
    "```\n",
    "<br>\n",
    "\n",
    "**Constraints:**\n",
    "- `n == nums.length`\n",
    "- `1 <= n <= 5 * 10^4`\n",
    "- `-10^9 <= nums[i] <= 10^9`\n",
    "<br><br>\n",
    "\n",
    "**Follow-up:** Could you solve the problem in linear time and in `O(1)` space?"
   ]
  },
  {
   "cell_type": "markdown",
   "id": "de820257",
   "metadata": {},
   "source": [
    "# Knowledge Points"
   ]
  },
  {
   "cell_type": "markdown",
   "id": "083d11af",
   "metadata": {},
   "source": [
    "## Boyer–Moore majority vote algorithm"
   ]
  },
  {
   "cell_type": "markdown",
   "id": "f93f0811",
   "metadata": {},
   "source": [
    "reference: [Majority vote algorithm EXPLAINED (with pictures) ^^](https://leetcode.com/problems/majority-element/solutions/543431/majority-vote-algorithm-explained-with-pictures/?orderBy=most_votes&languageTags=c)"
   ]
  },
  {
   "cell_type": "markdown",
   "id": "db3f4cf9",
   "metadata": {},
   "source": [
    "If we think about it our algorithm splits the array into segments (I call them runs). \n",
    "In each run the first element (leader) of the run \"dominates\" all the other elements. \"Dominates\" means that it occurs more times than all the others elements in the run combined. \n",
    "We terminate the run when all the other elements combined occur as much times as the leader ( `cnt == 0` )."
   ]
  },
  {
   "cell_type": "markdown",
   "id": "e311ea1f",
   "metadata": {},
   "source": [
    "<img src=\"https://assets.leetcode.com/users/andriy111/image_1584534212.png\"  alt=\"ImageFile\" style=\"width: 250px;\" align=\"middle\"/>"
   ]
  },
  {
   "cell_type": "markdown",
   "id": "2380f98e",
   "metadata": {},
   "source": [
    "This tells us that the leader as well as every other element occurs `50 %` of maybe less in the run. \n",
    "The same is true if we consider few consecutive runs stacked together: in each of them every element can occur `50 %` or less. That's why in all of them combined the same is true. \n",
    "The last run can be unfinished. \n",
    "In all previous runs combined no element occured more than `50 %`.\n",
    "That's why the majority element should be the leader of the last run and occupy more than `50 %` of it ( otherwise the last run would not be the last )."
   ]
  },
  {
   "cell_type": "markdown",
   "id": "3c021be5",
   "metadata": {},
   "source": [
    "<img src=\"https://assets.leetcode.com/users/andriy111/image_1584543475.png\"  alt=\"ImageFile\" style=\"width: 450px;\" align=\"middle\"/>"
   ]
  },
  {
   "cell_type": "markdown",
   "id": "736bd323",
   "metadata": {},
   "source": [
    "So in fact all the decisive staff occurs in the last run, but we have to do all the other runs to determine when the last runs starts and what element will be its leader"
   ]
  },
  {
   "cell_type": "markdown",
   "id": "6ca77467",
   "metadata": {},
   "source": [
    "<img src=\"https://assets.leetcode.com/users/andriy111/image_1584543732.png\"  alt=\"ImageFile\" style=\"width: 500px;\" align=\"middle\"/>"
   ]
  },
  {
   "cell_type": "markdown",
   "id": "90cba9a9",
   "metadata": {},
   "source": [
    "Note that there could be many small 2-element runs or one giant run"
   ]
  },
  {
   "cell_type": "markdown",
   "id": "8e799ddf",
   "metadata": {},
   "source": [
    "<img src=\"https://assets.leetcode.com/users/andriy111/image_1584538411.png\"  alt=\"ImageFile\" style=\"width:180px;\" align=\"middle\"/>"
   ]
  },
  {
   "cell_type": "markdown",
   "id": "fd15cc43",
   "metadata": {},
   "source": [
    "so we can't say that we are reducing our problem into a smaller one. Breaking down into runs is kinda 'magical' as at the end it leaves us with the run whose leader is majority element of the initial array (if it existed)."
   ]
  },
  {
   "cell_type": "markdown",
   "id": "36e0d82d",
   "metadata": {},
   "source": [
    "# Solutions"
   ]
  },
  {
   "cell_type": "markdown",
   "id": "416f3336",
   "metadata": {},
   "source": [
    "## Boyer–Moore majority vote algorithm"
   ]
  },
  {
   "cell_type": "markdown",
   "id": "ffb7b7f1",
   "metadata": {},
   "source": [
    "reference: [Majority vote algorithm EXPLAINED (with pictures) ^^](https://leetcode.com/problems/majority-element/solutions/543431/majority-vote-algorithm-explained-with-pictures/?orderBy=most_votes&languageTags=c)"
   ]
  },
  {
   "cell_type": "markdown",
   "id": "d58e6b1d",
   "metadata": {},
   "source": [
    "- [x] 1. initialize `count` with `0` and `majority` with `nums[0]`, the first element in `nums`;\n",
    "- [x] 2. iterate over all elements in `nums` by `i`:<br>\n",
    "2.1 if `count=0`, apply `majority` with `nums[i]`;<br>\n",
    "2.2 if `nums[i]` is not `majority`, deduct `count` with `1`;<br>\n",
    "2.3 if `nums[i]` is `majority`, add `count` with `1`;"
   ]
  },
  {
   "cell_type": "code",
   "execution_count": 24,
   "id": "b6259dc2",
   "metadata": {},
   "outputs": [
    {
     "name": "stdout",
     "output_type": "stream",
     "text": [
      "majority: 3; count: 0\n",
      "majority: 3; nums[0]: 3; count: 1\n",
      "\n",
      "majority: 3; nums[1]: 1; count: 0\n",
      "\n",
      "majority: 4; count: 0\n",
      "majority: 4; nums[2]: 4; count: 1\n",
      "\n",
      "majority: 4; nums[3]: 2; count: 0\n",
      "\n",
      "majority: 5; count: 0\n",
      "majority: 5; nums[4]: 5; count: 1\n",
      "\n",
      "majority: 5; nums[5]: 5; count: 2\n",
      "\n",
      "majority: 5; nums[6]: 1; count: 1\n",
      "\n",
      "majority: 5; nums[7]: 5; count: 2\n",
      "\n",
      "majority: 5; nums[8]: 2; count: 1\n",
      "\n",
      "majority: 5; nums[9]: 0; count: 0\n",
      "\n",
      "result: 5"
     ]
    }
   ],
   "source": [
    "#include <stdio.h>\n",
    "\n",
    "int majorityElement(int *nums, int numsSize){\n",
    "    int i;\n",
    "    int count=0, majority=nums[0];                           // 1\n",
    "\n",
    "    for (i=0; i<numsSize; i++){                              // 2\n",
    "        if (count==0) {                                      // 2.1\n",
    "            majority = nums[i];\n",
    "            printf(\"majority: %d; count: %d\\n\", majority, count);\n",
    "        }\n",
    "        if (majority != nums[i]){                            // 2.2\n",
    "            count--;\n",
    "            printf(\"majority: %d; nums[%d]: %d; count: %d\\n\", majority, i, nums[i], count);\n",
    "        }else {                                              // 2.3\n",
    "            count++;\n",
    "            printf(\"majority: %d; nums[%d]: %d; count: %d\\n\", majority, i, nums[i], count);\n",
    "        }\n",
    "        printf(\"\\n\");\n",
    "    }\n",
    "    return majority;\n",
    "}\n",
    "\n",
    "int main(){\n",
    "    int nums[]={3, 1, 4, 2, 5, 5, 1, 5, 2, 0};\n",
    "    int i, numsSize=sizeof(nums)/sizeof(int);\n",
    "    int result;\n",
    "    result = majorityElement(nums, numsSize);\n",
    "    printf(\"result: %d\", result);\n",
    "}"
   ]
  },
  {
   "cell_type": "markdown",
   "id": "a689a1c7",
   "metadata": {},
   "source": [
    "# Extensions"
   ]
  },
  {
   "cell_type": "markdown",
   "id": "9208a116",
   "metadata": {},
   "source": [
    "reference: [number which appears more than n/3 times in an array](https://stackoverflow.com/questions/14955634/number-which-appears-more-than-n-3-times-in-an-array)"
   ]
  },
  {
   "cell_type": "markdown",
   "id": "eed15d8a",
   "metadata": {},
   "source": [
    "find an element which occurs more than `n/3` times in an array."
   ]
  },
  {
   "cell_type": "markdown",
   "id": "491b0cc4",
   "metadata": {},
   "source": [
    "<img src=\"https://assets.leetcode.com/users/andriy111/image_1584562040.png\"  alt=\"ImageFile\" style=\"width:500px;\" align=\"middle\"/>"
   ]
  },
  {
   "cell_type": "markdown",
   "id": "37249853",
   "metadata": {},
   "source": [
    "This is a two-pass algorithm: the first pass chooses two candidates, the second pass either confirms or rejects each of them.\n",
    "\n",
    "Note that we should put into stack the elements of only one kind. The triple is formed when we simultaniously pop two different elements from our staches and take current element from the array. If current element equals elements in one of the stacks we can't form a proper triple and push current element into the respective stack.\n",
    "\n",
    "The next observation is that we don't need all these stacks as they contain identical elements and we can substitute them with two variables y and z and their counters cy and cz.\n",
    "Let's take a look how triples are formed in this process, as shown above.\n",
    "\n",
    "Here the following triples are formed: `(1, 2, 3)`, `(1, 2, 3)`, `(1, 2, 3)`, `(1, 4, 3)` . Note that `-`'s occur simultanuosly for the two counters but `+`'s occur to only one of them. Also every step leads to either `+` or `-`. `+` means that we were unable to form a triple because we didn't have enough different elements at our disposal when the current element matched with one of the two types of stashed elements and we need to stash this element as well for the future.\n",
    "\n",
    "**Why do we need triples ?**<br>\n",
    "Why do we partition the elements into triples with different elements in each triple? It's because the leftovers after this procedure are the candidates for the majority elements. There will be elements of only two types in the leftovers (otherwise we could make a triple of them). Note that triples contain only different elements and there could be no more than `⌊ n/3 ⌋` of them. So even if majority element would appear in every one of `⌊ n/3 ⌋` triples there will be leftover of it. That's why majority elements (if present) are guaranted to be among the leftovers."
   ]
  },
  {
   "cell_type": "markdown",
   "id": "9dc510fb",
   "metadata": {},
   "source": [
    "- [x] 1. start with 2 empty candidate slots `candidate1` and `candidate2`, and two counters `count1` and `count2` set to `0`.\n",
    "- [x] 2. for each item:\n",
    "if it is equal to either candidate, increment the corresponding count<br>\n",
    "else if there is an empty slot (i.e. a slot with count `0`), put it in that slot and set the count to `1`<br>\n",
    "else reduce both counters by `1`\n",
    "- [x] 3. make a second pass over the array to check whether the candidates really do have the required count. If there is a value that occurs more than `n/3` times then it will be in a slot, but you don't know which one it is.<br>\n",
    "If this modified version of the question guaranteed that there were two values with more than n/3 elements (in general, k-1 values with more than n/k) then we wouldn't need the second pass. But when the original question has k=2 and 1 guaranteed majority there's no way to know whether we \"should\" generalize it as guaranteeing 1 such element or guaranteeing k-1. The stronger the guarantee, the easier the problem."
   ]
  },
  {
   "cell_type": "code",
   "execution_count": 2,
   "id": "c9c7e3ee",
   "metadata": {},
   "outputs": [
    {
     "name": "stderr",
     "output_type": "stream",
     "text": [
      "/var/folders/v3/_yfx_m252q72y7mr8gl65mmm0000gn/T/tmpvduhpfcs.c:47:1: warning: non-void function does not return a value in all control paths [-Wreturn-type]\n",
      "}\n",
      "^\n",
      "1 warning generated.\n"
     ]
    },
    {
     "name": "stdout",
     "output_type": "stream",
     "text": [
      "nums[0]: 1; [c1, c2, cnt1, cnt2]: [1, 0, 1, 0]\n",
      "nums[1]: 1; [c1, c2, cnt1, cnt2]: [1, 0, 2, 0]\n",
      "nums[2]: 1; [c1, c2, cnt1, cnt2]: [1, 0, 3, 0]\n",
      "nums[3]: 1; [c1, c2, cnt1, cnt2]: [1, 0, 4, 0]\n",
      "nums[4]: 1; [c1, c2, cnt1, cnt2]: [1, 0, 5, 0]\n",
      "nums[5]: 1; [c1, c2, cnt1, cnt2]: [1, 0, 6, 0]\n",
      "nums[6]: 2; [c1, c2, cnt1, cnt2]: [1, 2, 6, 1]\n",
      "nums[7]: 2; [c1, c2, cnt1, cnt2]: [1, 2, 6, 2]\n",
      "nums[8]: 2; [c1, c2, cnt1, cnt2]: [1, 2, 6, 3]\n",
      "nums[9]: 3; [c1, c2, cnt1, cnt2]: [1, 2, 5, 2]\n",
      "nums[10]: 3; [c1, c2, cnt1, cnt2]: [1, 2, 4, 1]\n",
      "nums[11]: 3; [c1, c2, cnt1, cnt2]: [1, 2, 3, 0]\n",
      "nums[12]: 4; [c1, c2, cnt1, cnt2]: [1, 4, 3, 1]\n",
      "nums[13]: 4; [c1, c2, cnt1, cnt2]: [1, 4, 3, 2]\n",
      "nums[14]: 3; [c1, c2, cnt1, cnt2]: [1, 4, 2, 1]\n",
      "\n",
      "nums[0]: 1\n",
      "nums[0]==candidate1, 1=1, count1++: 1\n",
      "nums[1]: 1\n",
      "nums[1]==candidate1, 1=1, count1++: 2\n",
      "nums[2]: 1\n",
      "nums[2]==candidate1, 1=1, count1++: 3\n",
      "nums[3]: 1\n",
      "nums[3]==candidate1, 1=1, count1++: 4\n",
      "nums[4]: 1\n",
      "nums[4]==candidate1, 1=1, count1++: 5\n",
      "count1 5 >= 5, return candidate1 1\n",
      "\n",
      "result: 1"
     ]
    }
   ],
   "source": [
    "#include <stdio.h>\n",
    "\n",
    "int majorityElement(int *nums, int numsSize) {\n",
    "    int count1=0, count2=0;                                  // 1\n",
    "    int i, candidate1=0, candidate2=0;\n",
    "\n",
    "    for (i = 0; i < numsSize; i++) {                         // 2\n",
    "        if (count1 == 0) {                                 \n",
    "            candidate1 = nums[i];\n",
    "            count1 = 1;\n",
    "        } else if (nums[i] == candidate1) {                \n",
    "            count1++;\n",
    "        } else if (count2 == 0) {                            \n",
    "            candidate2 = nums[i];\n",
    "            count2 = 1;\n",
    "        } else if (nums[i] == candidate2) {                  \n",
    "            count2++;\n",
    "        } else {                                           \n",
    "            count1--;\n",
    "            count2--;\n",
    "        }\n",
    "        printf(\"nums[%d]: %d; [c1, c2, cnt1, cnt2]: [%d, %d, %d, %d]\\n\", i, nums[i], candidate1, candidate2, count1, count2);\n",
    "    }\n",
    "    \n",
    "    printf(\"\\n\");\n",
    "    i = 0, count1 = 0, count2 = 0;                           // 3\n",
    "    while (i<numsSize){                                     \n",
    "        printf(\"nums[%d]: %d\\n\", i, nums[i]);\n",
    "        if (nums[i] == candidate1){                        \n",
    "            count1++;\n",
    "            printf(\"nums[%d]==candidate1, %d=%d, count1++: %d\\n\", i, nums[i], candidate1, count1);\n",
    "        }else if (nums[i] == candidate2){                 \n",
    "            count2++;\n",
    "            printf(\"nums[%d]==candidate2, %d=%d, count2++: %d\\n\", i, nums[i], candidate2, count2);\n",
    "        }\n",
    "        if (count1 >= numsSize/3){                          \n",
    "            printf(\"count1 %d >= %d, return candidate1 %d\\n\", count1, numsSize/3, candidate1);\n",
    "            return candidate1;\n",
    "        }\n",
    "        if (count2 >= numsSize/3){                        \n",
    "            printf(\"count2 >= %d, return candidate2 %d\\n\", numsSize/3, candidate2);\n",
    "            return candidate2;\n",
    "        }\n",
    "        ++i;                                               \n",
    "    }\n",
    "\n",
    "}\n",
    "\n",
    "int main(){\n",
    "    int nums[]={1,1,1,1,1,1,2,2,2,3,3,3,4,4,3};\n",
    "    int i, numsSize=sizeof(nums)/sizeof(int);\n",
    "    int result;\n",
    "    result = majorityElement(nums, numsSize);\n",
    "    printf(\"\\nresult: %d\", result);\n",
    "}"
   ]
  }
 ],
 "metadata": {
  "kernelspec": {
   "display_name": "C",
   "language": "c",
   "name": "c"
  },
  "language_info": {
   "file_extension": ".c",
   "mimetype": "text/plain",
   "name": "c"
  },
  "toc": {
   "base_numbering": 1,
   "nav_menu": {},
   "number_sections": true,
   "sideBar": true,
   "skip_h1_title": false,
   "title_cell": "Table of Contents",
   "title_sidebar": "Contents",
   "toc_cell": false,
   "toc_position": {},
   "toc_section_display": true,
   "toc_window_display": false
  }
 },
 "nbformat": 4,
 "nbformat_minor": 5
}
