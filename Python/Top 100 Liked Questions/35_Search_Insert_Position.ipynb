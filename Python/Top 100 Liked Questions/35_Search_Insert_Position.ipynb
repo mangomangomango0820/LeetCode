{
 "cells": [
  {
   "cell_type": "markdown",
   "id": "db820cb7",
   "metadata": {},
   "source": [
    "LeetCode | Top 100 | 35. Search Insert Position"
   ]
  },
  {
   "cell_type": "markdown",
   "id": "b6ca2a53",
   "metadata": {},
   "source": [
    "# Question"
   ]
  },
  {
   "cell_type": "markdown",
   "id": "27ebd003",
   "metadata": {},
   "source": [
    "[35. Search Insert Position](https://leetcode.com/problems/search-insert-position/description/?envType=study-plan-v2&envId=top-100-liked)"
   ]
  },
  {
   "cell_type": "markdown",
   "id": "150e002c",
   "metadata": {},
   "source": [
    "Given a sorted array of distinct integers and a target value, return the index if the target is found. If not, return the index where it would be if it were inserted in order.\n",
    "\n",
    "You must write an algorithm with O(log n) runtime complexity.\n",
    "\n",
    "**Example 1:**\n",
    "```\n",
    "Input: nums = [1,3,5,6], target = 5\n",
    "Output: 2\n",
    "```\n",
    "\n",
    "**Example 2:**\n",
    "```\n",
    "Input: nums = [1,3,5,6], target = 2\n",
    "Output: 1\n",
    "```\n",
    "\n",
    "**Example 3:**\n",
    "```\n",
    "Input: nums = [1,3,5,6], target = 7\n",
    "Output: 4\n",
    "```\n",
    "<br>\n",
    "\n",
    "**Constraints:**\n",
    "\n",
    "- `1 <= nums.length <= 10^4`\n",
    "- `10^4 <= nums[i] <= 10^4`\n",
    "- `nums` contains **distinct** values sorted in **ascending** order.\n",
    "- `-10^4 <= target <= 10^4`"
   ]
  },
  {
   "cell_type": "markdown",
   "id": "0cbcfff2",
   "metadata": {},
   "source": [
    "# Knowledge Points"
   ]
  },
  {
   "cell_type": "markdown",
   "id": "8c4b26b0",
   "metadata": {},
   "source": [
    "## Binary Search"
   ]
  },
  {
   "cell_type": "markdown",
   "id": "bbc75019",
   "metadata": {},
   "source": [
    "**reference:**<br>\n",
    "[How to Do a Binary Search in Python](https://realpython.com/binary-search-python/#implementing-binary-search-in-python)"
   ]
  },
  {
   "cell_type": "markdown",
   "id": "5a3ad228",
   "metadata": {},
   "source": [
    "# Solutions"
   ]
  },
  {
   "cell_type": "markdown",
   "id": "1b2d7882",
   "metadata": {},
   "source": [
    "## Binary Search"
   ]
  },
  {
   "cell_type": "markdown",
   "id": "0b2cfd8f",
   "metadata": {},
   "source": [
    "### Example"
   ]
  },
  {
   "cell_type": "markdown",
   "id": "f1e1eb64",
   "metadata": {},
   "source": [
    "- 1.<br>\n",
    "define 2 pointers, `left` and `right`<br>\n",
    "initialize `left` with `0` and `right` with `len(nums)-1`, which means `left` points to `nums[0]` and `right` points to `nums[len(nums)-1]`<br>\n",
    "- 2.<br>\n",
    "while `left` smaller than `right`<br>\n",
    "`mid` equal with `left+(right-left)//2`\n",
    "  + 2.1<br>\n",
    "if `nums[mid]` smaller than `target`, move `left` to `mid+1`, then `nums[left]` may larger or equal with `target` \n",
    "  + 2.2 \n",
    "if `target` smaller than `nums[mid]`, move `right` to `mid-1`, then `nums[right]` may smaller or equal with `target`\n",
    "- 3.<br>\n",
    "when `left` larger than `right`, exit the while loop， return `left`"
   ]
  },
  {
   "cell_type": "code",
   "execution_count": 8,
   "id": "47969db0",
   "metadata": {},
   "outputs": [
    {
     "name": "stdout",
     "output_type": "stream",
     "text": [
      "4\n"
     ]
    }
   ],
   "source": [
    "class Solution:\n",
    "    def searchInsert(self, nums, target: int) -> int:\n",
    "        left, right = 0, len(nums)-1                    # 1.\n",
    "\n",
    "        while left <= right:                            # 2.\n",
    "            mid = left + (right - left) // 2\n",
    "            if target > nums[mid]:                      # 2.1\n",
    "                left = mid+1\n",
    "            else:                                       # 2.2\n",
    "                right = mid-1\n",
    "        return left                                     # 3.\n",
    "    \n",
    "if __name__ == \"__main__\":\n",
    "    nums = [1,3,5,6]\n",
    "    target = 7\n",
    "    sol = Solution()\n",
    "    index = sol.searchInsert(nums, target)\n",
    "    print(index)"
   ]
  },
  {
   "cell_type": "markdown",
   "id": "7bc4fd25",
   "metadata": {},
   "source": [
    "### Example"
   ]
  },
  {
   "cell_type": "markdown",
   "id": "02d5c8cf",
   "metadata": {},
   "source": [
    "- 1.<br>\n",
    "define 2 pointers, `left` and `right`<br>\n",
    "initialize `left` with `0` and `right` with `len(nums)`, which means `left` points to `nums[0]` and `right` points to `nums[len(nums)]`<br>\n",
    "- 2.<br>\n",
    "while `left` smaller than `right`<br>\n",
    "`mid` equal with `left+(right-left)//2`\n",
    "  + 2.1<br>\n",
    "if `nums[mid]` smaller than `target`, move `left` to `mid+1`, then `nums[left]` may larger or equal with `target` \n",
    "  + 2.2 \n",
    "if `target` smaller than `nums[mid]`, move `right` to `mid`, then `nums[right]` may smaller or equal with `target`\n",
    "- 3.<br>\n",
    "when `left` equal with `right`, exit the while loop"
   ]
  },
  {
   "cell_type": "code",
   "execution_count": 12,
   "id": "9436f0aa",
   "metadata": {},
   "outputs": [
    {
     "name": "stdout",
     "output_type": "stream",
     "text": [
      "5\n"
     ]
    }
   ],
   "source": [
    "class Solution:\n",
    "    def searchInsert(self, nums, target: int) -> int:\n",
    "        left, right = 0, len(nums)                      # 1.\n",
    "\n",
    "        while left < right:                             # 2.\n",
    "            mid = left + (right-left)//2                \n",
    "            if target > nums[mid]:                      # 2.1\n",
    "                left = mid + 1              \n",
    "            else:                                       # 2.2\n",
    "                right = mid\n",
    "        return left                                     # 3.\n",
    "\n",
    "if __name__ == \"__main__\":\n",
    "    nums = [1,2,3,4,5,10]\n",
    "    target = 6\n",
    "    sol = Solution()\n",
    "    index = sol.searchInsert(nums, target)\n",
    "    print(index)"
   ]
  }
 ],
 "metadata": {
  "kernelspec": {
   "display_name": "Python 3 (ipykernel)",
   "language": "python",
   "name": "python3"
  },
  "language_info": {
   "codemirror_mode": {
    "name": "ipython",
    "version": 3
   },
   "file_extension": ".py",
   "mimetype": "text/x-python",
   "name": "python",
   "nbconvert_exporter": "python",
   "pygments_lexer": "ipython3",
   "version": "3.9.7"
  },
  "toc": {
   "base_numbering": 1,
   "nav_menu": {},
   "number_sections": true,
   "sideBar": true,
   "skip_h1_title": false,
   "title_cell": "Table of Contents",
   "title_sidebar": "Contents",
   "toc_cell": false,
   "toc_position": {},
   "toc_section_display": true,
   "toc_window_display": false
  }
 },
 "nbformat": 4,
 "nbformat_minor": 5
}
