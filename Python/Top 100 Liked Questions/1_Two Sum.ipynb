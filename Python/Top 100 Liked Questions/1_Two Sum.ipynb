{
 "cells": [
  {
   "cell_type": "markdown",
   "id": "6649b112",
   "metadata": {},
   "source": [
    "LeetCode | Top 100 | 1. Two Sum"
   ]
  },
  {
   "cell_type": "markdown",
   "id": "00e67729",
   "metadata": {},
   "source": [
    "# Question"
   ]
  },
  {
   "cell_type": "markdown",
   "id": "a75087c2",
   "metadata": {},
   "source": [
    "[1. Two Sum](https://leetcode.com/problems/two-sum/description/)"
   ]
  },
  {
   "cell_type": "markdown",
   "id": "24ae822a",
   "metadata": {},
   "source": [
    "Given an array of integers `nums` and an integer `target`, return indices of the two numbers such that they add up to `target`.\n",
    "\n",
    "You may assume that each input would have `exactly one solution`, and you may not use the same element twice.\n",
    "\n",
    "You can return the answer in any order.\n",
    "\n",
    " \n",
    "\n",
    "**Example 1**\n",
    "```\n",
    "Input: nums = [2,7,11,15], target = 9\n",
    "Output: [0,1]\n",
    "Explanation: Because nums[0] + nums[1] == 9, we return [0, 1].\n",
    "```\n",
    "\n",
    "**Example 2**\n",
    "```\n",
    "Input: nums = [3,2,4], target = 6\n",
    "Output: [1,2]\n",
    "```\n",
    "\n",
    "**Example 3**\n",
    "```\n",
    "Input: nums = [3,3], target = 6\n",
    "Output: [0,1]\n",
    "```\n",
    "\n",
    "**Constraints**\n",
    "- `2 <= nums.length <= 10^4`\n",
    "- `10^9 <= nums[i] <= 10^9`\n",
    "- `10^9 <= target <= 10^9`\n",
    "- **Only one valid answer exists.**"
   ]
  },
  {
   "cell_type": "markdown",
   "id": "dbd9085e",
   "metadata": {},
   "source": [
    "# Knowledge Points"
   ]
  },
  {
   "cell_type": "markdown",
   "id": "7b400ecf",
   "metadata": {},
   "source": [
    "## collections.Counter"
   ]
  },
  {
   "cell_type": "markdown",
   "id": "cbc766bb",
   "metadata": {},
   "source": [
    "### Concept"
   ]
  },
  {
   "cell_type": "markdown",
   "id": "65118504",
   "metadata": {},
   "source": [
    "`most_common([n])`，Return a list of the `n` most common elements and their counts from the most common to the least. If `n` is omitted or None, `most_common()` returns all elements in the counter. Elements with equal counts are ordered in the order first encountered:"
   ]
  },
  {
   "cell_type": "markdown",
   "id": "7d7ad30a",
   "metadata": {},
   "source": [
    "**Example 1**"
   ]
  },
  {
   "cell_type": "code",
   "execution_count": 3,
   "id": "cff60d0c",
   "metadata": {},
   "outputs": [
    {
     "data": {
      "text/plain": [
       "Counter({'a': 5, 'b': 2, 'r': 2, 'c': 1, 'd': 1})"
      ]
     },
     "execution_count": 3,
     "metadata": {},
     "output_type": "execute_result"
    }
   ],
   "source": [
    "from collections import Counter\n",
    "freq = Counter('abracadabra')\n",
    "freq"
   ]
  },
  {
   "cell_type": "code",
   "execution_count": 4,
   "id": "d5f53b92",
   "metadata": {},
   "outputs": [
    {
     "data": {
      "text/plain": [
       "[('a', 5), ('b', 2), ('r', 2)]"
      ]
     },
     "execution_count": 4,
     "metadata": {},
     "output_type": "execute_result"
    }
   ],
   "source": [
    "freq.most_common(3)"
   ]
  },
  {
   "cell_type": "code",
   "execution_count": 5,
   "id": "80e71bc8",
   "metadata": {},
   "outputs": [
    {
     "data": {
      "text/plain": [
       "list"
      ]
     },
     "execution_count": 5,
     "metadata": {},
     "output_type": "execute_result"
    }
   ],
   "source": [
    "type(freq.most_common(3))"
   ]
  },
  {
   "cell_type": "code",
   "execution_count": 6,
   "id": "4731d89f",
   "metadata": {},
   "outputs": [
    {
     "data": {
      "text/plain": [
       "tuple"
      ]
     },
     "execution_count": 6,
     "metadata": {},
     "output_type": "execute_result"
    }
   ],
   "source": [
    "type(freq.most_common(3)[0])"
   ]
  },
  {
   "cell_type": "markdown",
   "id": "6a157891",
   "metadata": {},
   "source": [
    "**Example 2**"
   ]
  },
  {
   "cell_type": "code",
   "execution_count": 7,
   "id": "3a676739",
   "metadata": {},
   "outputs": [
    {
     "data": {
      "text/plain": [
       "Counter({'red': 2, 'blue': 3, 'green': 1})"
      ]
     },
     "execution_count": 7,
     "metadata": {},
     "output_type": "execute_result"
    }
   ],
   "source": [
    "from collections import Counter\n",
    "freq = Counter(['red', 'blue', 'red', 'green', 'blue', 'blue'])\n",
    "freq"
   ]
  },
  {
   "cell_type": "code",
   "execution_count": 8,
   "id": "a4bbad90",
   "metadata": {},
   "outputs": [
    {
     "data": {
      "text/plain": [
       "[('blue', 3), ('red', 2)]"
      ]
     },
     "execution_count": 8,
     "metadata": {},
     "output_type": "execute_result"
    }
   ],
   "source": [
    "freq.most_common(2)"
   ]
  },
  {
   "cell_type": "code",
   "execution_count": 9,
   "id": "2f33d843",
   "metadata": {},
   "outputs": [
    {
     "data": {
      "text/plain": [
       "list"
      ]
     },
     "execution_count": 9,
     "metadata": {},
     "output_type": "execute_result"
    }
   ],
   "source": [
    "type(freq.most_common(2))"
   ]
  },
  {
   "cell_type": "markdown",
   "id": "9f20b898",
   "metadata": {},
   "source": [
    "## zip"
   ]
  },
  {
   "cell_type": "markdown",
   "id": "6c52e735",
   "metadata": {},
   "source": [
    "## Concept"
   ]
  },
  {
   "cell_type": "markdown",
   "id": "8c957e6e",
   "metadata": {},
   "source": [
    "`zip(*iterables, strict=False)`, Iterate over several iterables in parallel, producing tuples with an item from each one."
   ]
  },
  {
   "cell_type": "markdown",
   "id": "71c241c5",
   "metadata": {},
   "source": [
    "**Example**"
   ]
  },
  {
   "cell_type": "code",
   "execution_count": 10,
   "id": "47ed01db",
   "metadata": {},
   "outputs": [
    {
     "data": {
      "text/plain": [
       "[(0, 'fee'), (1, 'fi'), (2, 'fo')]"
      ]
     },
     "execution_count": 10,
     "metadata": {},
     "output_type": "execute_result"
    }
   ],
   "source": [
    "list(zip(range(3), ['fee', 'fi', 'fo', 'fum']))"
   ]
  },
  {
   "cell_type": "markdown",
   "id": "6a9312df",
   "metadata": {},
   "source": [
    "# Solutions"
   ]
  },
  {
   "cell_type": "markdown",
   "id": "f44e6395",
   "metadata": {},
   "source": [
    "**1.** hash `dict`"
   ]
  },
  {
   "cell_type": "markdown",
   "id": "df0962cf",
   "metadata": {},
   "source": [
    "reference: [Python Simple Solution || O(n) Time || O(n) Space](https://leetcode.com/problems/two-sum/solutions/2361743/python-simple-solution-o-n-time-o-n-space/?orderBy=most_votes&languageTags=python3)"
   ]
  },
  {
   "cell_type": "markdown",
   "id": "40d057f9",
   "metadata": {},
   "source": [
    "- [x] 1. if `target-num` already exists in `dict.keys()`, return a list including the `index` ( `d[target-num]`) of `target-num` and that of `num` ( `i` ); else, continue;\n",
    "- [x] 2. add key-value pair `d[num]=i` to `d`;\n",
    "- [x] 3. after enumerating all `num` in `nums`, the code is still not interrupted by `return[d[target-num], i]`, then return `[]`, which means no such pair of nums' sum can reach up to `target`;"
   ]
  },
  {
   "cell_type": "code",
   "execution_count": 49,
   "id": "b32a08c1",
   "metadata": {},
   "outputs": [],
   "source": [
    "class Solution:\n",
    "    def twoSum(self, nums, target):\n",
    "        d = dict()\n",
    "        for i, num in enumerate(nums):            \n",
    "            if target-num in d:                        # 1\n",
    "                return [d[target-num], i]\n",
    "            else:                                      # 2\n",
    "                d[num] = i    \n",
    "        return []                                      # 3\n",
    "\n",
    "if __name__ == '__main__':\n",
    "    nums = [-10,-1,-18,-19]\n",
    "    target = -19\n",
    "    sol = Solution()\n",
    "    output = sol.twoSum(nums=nums, target=target)"
   ]
  },
  {
   "cell_type": "code",
   "execution_count": 48,
   "id": "054873d9",
   "metadata": {},
   "outputs": [
    {
     "data": {
      "text/plain": [
       "[1, 2]"
      ]
     },
     "execution_count": 48,
     "metadata": {},
     "output_type": "execute_result"
    }
   ],
   "source": [
    "output"
   ]
  },
  {
   "cell_type": "markdown",
   "id": "cd496623",
   "metadata": {},
   "source": [
    "**2.** `Two Pointer`"
   ]
  },
  {
   "cell_type": "markdown",
   "id": "35169f7d",
   "metadata": {},
   "source": [
    "**2.1**"
   ]
  },
  {
   "cell_type": "markdown",
   "id": "5bba16ec",
   "metadata": {},
   "source": [
    "- [x] 1. sort the elements in `nums` with ascending order as `temp`;\n",
    "- [x] 2. `Two Pointers` search:<br>\n",
    "while left index ( `l` ) is at the left side of right index ( `r` ), <br>\n",
    "2.1 if `temp[l] + temp[r] = target`, return a list including the index of `temp[l]` in `nums` and that of `temp[r]` in `nums`;<br>\n",
    "2.2 if `temp[l] + temp[r] < target`, move `l` to its right pointing to a larger num;<br>\n",
    "2.3 if `temp[l] + temp[r] > target`, move `r` to its left pointing to a smaller num;"
   ]
  },
  {
   "cell_type": "code",
   "execution_count": 67,
   "id": "f43468a9",
   "metadata": {},
   "outputs": [
    {
     "name": "stdout",
     "output_type": "stream",
     "text": [
      "temp: [-19, -18, -10, -1]\n",
      "-18+-1=-19\n",
      "index: 1\n",
      "index: 2\n"
     ]
    }
   ],
   "source": [
    "class Solution:\n",
    "    def twoSum(self, nums, target):\n",
    "        temp = sorted(nums)                            # 1   \n",
    "        print(f\"temp: {temp}\")\n",
    "        \n",
    "        cnt = len(nums)\n",
    "        output = []\n",
    "        for l in range(cnt): \n",
    "            r = cnt-1\n",
    "            while l < r:                               # 2\n",
    "                sum = temp[l] + temp[r]               \n",
    "                if sum == target:                      # 2.1\n",
    "                    print(f\"{temp[l]}+{temp[r]}={target}\")\n",
    "                    for i, sum in enumerate(nums):\n",
    "                        if sum in [temp[l], temp[r]]:\n",
    "                            print(f\"index: {i}\")\n",
    "                            output.append(i)\n",
    "                    return sorted(output)\n",
    "                elif sum < target:                     # 2.2\n",
    "                    l += 1\n",
    "                else:                                  # 2.3\n",
    "                    r -= 1\n",
    "\n",
    "if __name__ == '__main__':\n",
    "    nums = [-10,-1,-18,-19]\n",
    "    target = -19\n",
    "    sol = Solution()\n",
    "    output = sol.twoSum(nums=nums, target=target)"
   ]
  },
  {
   "cell_type": "code",
   "execution_count": 65,
   "id": "b028a835",
   "metadata": {},
   "outputs": [
    {
     "data": {
      "text/plain": [
       "[1, 2]"
      ]
     },
     "execution_count": 65,
     "metadata": {},
     "output_type": "execute_result"
    }
   ],
   "source": [
    "output"
   ]
  },
  {
   "cell_type": "markdown",
   "id": "71815e33",
   "metadata": {},
   "source": [
    "**2.2**"
   ]
  },
  {
   "cell_type": "markdown",
   "id": "9c4f35fb",
   "metadata": {},
   "source": [
    "reference: [Two Pointer Search solution](https://leetcode.com/problems/two-sum/solutions/2831205/two-pointer-search-solution/?q=two+pointer&orderBy=most_relevant&languageTags=python3)"
   ]
  },
  {
   "cell_type": "markdown",
   "id": "f0411486",
   "metadata": {},
   "source": [
    "- [x] 1. sort the index of elements in `nums` with its corresponding valules in an ascending order as `idx`;\n",
    "- [x] 2. `Two Pointers` search:<br>\n",
    "while left index ( `l` ) is at the left side of right index ( `r` ), <br>\n",
    "2.1 if `nums[idx[l]] + nums[idx[r]] = target`, return a list including the index of `nums[idx[l]]` in `idx` and that of `nums[idx[r]]` in `idx`;<br>\n",
    "2.2 if `nums[idx[l]] + nums[idx[r]] < target`, move `l` to its right pointing to a larger num;<br>\n",
    "2.3 if `nums[idx[l]] + nums[idx[r]] > target`, move `r` to its left pointing to a smaller num;"
   ]
  },
  {
   "cell_type": "code",
   "execution_count": 73,
   "id": "007ef25f",
   "metadata": {},
   "outputs": [
    {
     "name": "stdout",
     "output_type": "stream",
     "text": [
      "nums       : [-10, -1, -18, -19]\n",
      "sorted nums: [-19, -18, -10, -1]\n",
      "idx        : [3, 2, 0, 1]\n"
     ]
    }
   ],
   "source": [
    "class Solution:\n",
    "    def twoSum(self, nums: list[int], target: int) -> list[int]:\n",
    "        idx = sorted(range(len(nums)), key=lambda k: nums[k]) # 1\n",
    "        print(f\"nums       : {nums}\")\n",
    "        print(f\"sorted nums: {sorted(nums)}\")\n",
    "        print(f\"idx        : {idx}\")\n",
    "        \n",
    "        cnt = len(nums)\n",
    "        for l in range(cnt-1):\n",
    "            r = cnt - 1\n",
    "            while l<r:                                        # 2\n",
    "                sum = nums[idx[l]] + nums[idx[r]]\n",
    "                if sum == target:\n",
    "                    return sorted([idx[l], idx[r]])\n",
    "                elif sum < target:\n",
    "                    l += 1\n",
    "                else:\n",
    "                    r -= 1\n",
    "    \n",
    "if __name__ == '__main__':\n",
    "    nums = [-10,-1,-18,-19]\n",
    "    target = -19\n",
    "    sol = Solution()\n",
    "    output = sol.twoSum(nums=nums, target=target)"
   ]
  },
  {
   "cell_type": "code",
   "execution_count": 74,
   "id": "891060aa",
   "metadata": {},
   "outputs": [
    {
     "data": {
      "text/plain": [
       "[1, 2]"
      ]
     },
     "execution_count": 74,
     "metadata": {},
     "output_type": "execute_result"
    }
   ],
   "source": [
    "output"
   ]
  },
  {
   "cell_type": "markdown",
   "id": "16a89cfa",
   "metadata": {},
   "source": [
    "**3.** enumeration"
   ]
  },
  {
   "cell_type": "markdown",
   "id": "2d9a52a2",
   "metadata": {},
   "source": [
    "- [x] 1. count elements in `nums` with `collections.Counter`;\n",
    "- [x] 2. find elements with frequency more than twice and include them as `hf`:<br>\n",
    "2.1 there is more than 1 element in `hf`:<br>\n",
    "2.2 record every element and its index in `d`;<br>\n",
    "2.2 check if any element in `hf` is equal to half of `target`, if so, find its corresponding index from `d`; else, continue;\n",
    "- [x] 3. get unique elements as `ck`;<br>\n",
    "3.1 for any element in `ck`, if `target-i=i`, it is the same `num`, skip and continue;<br>\n",
    "3.2 for any elemnet in `ck`, if `target-i` in `ck` as well, return the indexes of `ck` and `target-i` in `nums`; else, continue;"
   ]
  },
  {
   "cell_type": "code",
   "execution_count": 96,
   "id": "c729f487",
   "metadata": {},
   "outputs": [
    {
     "name": "stdout",
     "output_type": "stream",
     "text": [
      "counter: Counter({3: 1, 4: 1, 2: 1, 1: 1})\n",
      "high f : []\n",
      "ck: {1, 2, 3, 4}\n"
     ]
    }
   ],
   "source": [
    "class Solution:\n",
    "    def twoSum(self, nums, target):\n",
    "        cnt = len(nums)\n",
    "        from collections import Counter\n",
    "        c = Counter(nums)                                     # 1\n",
    "        print(f\"counter: {c}\")\n",
    "        hf = [k for k, v in c.items() if v>=2]                # 2 \n",
    "        print(f\"high f : {hf}\")\n",
    "        if len(hf) >=1:                                       # 2.1\n",
    "            d = dict(zip(range(len(nums)), nums))             # 2.2    \n",
    "            print(f\"d      : {d}\")\n",
    "            for i in hf:\n",
    "                if 2*i == target:                             # 2.3 \n",
    "                    return [k for k, v in d.items() if v==i]\n",
    "                else:\n",
    "                    continue\n",
    "        ck = set(c.keys())                                    # 3\n",
    "        print(f\"ck: {ck}\")\n",
    "        for i in ck: \n",
    "            if target-i == i:                                 # 3.1\n",
    "                continue\n",
    "            if (target-i) in ck:                              # 3.2 \n",
    "                return sorted([nums.index(i), nums.index(target-i)])\n",
    "            else:\n",
    "                continue\n",
    "              \n",
    "if __name__ == '__main__':\n",
    "    nums = [3, 4, 2, 1]\n",
    "    target = 6\n",
    "    sol = Solution()\n",
    "    output = sol.twoSum(nums=nums, target=target)"
   ]
  },
  {
   "cell_type": "code",
   "execution_count": 97,
   "id": "ee591f05",
   "metadata": {},
   "outputs": [
    {
     "data": {
      "text/plain": [
       "[1, 2]"
      ]
     },
     "execution_count": 97,
     "metadata": {},
     "output_type": "execute_result"
    }
   ],
   "source": [
    "output"
   ]
  }
 ],
 "metadata": {
  "kernelspec": {
   "display_name": "Python 3 (ipykernel)",
   "language": "python",
   "name": "python3"
  },
  "language_info": {
   "codemirror_mode": {
    "name": "ipython",
    "version": 3
   },
   "file_extension": ".py",
   "mimetype": "text/x-python",
   "name": "python",
   "nbconvert_exporter": "python",
   "pygments_lexer": "ipython3",
   "version": "3.9.7"
  }
 },
 "nbformat": 4,
 "nbformat_minor": 5
}
