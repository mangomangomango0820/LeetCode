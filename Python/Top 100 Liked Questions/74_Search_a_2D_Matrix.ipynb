{
 "cells": [
  {
   "cell_type": "markdown",
   "id": "db820cb7",
   "metadata": {},
   "source": [
    "LeetCode | Top 100 | 74. Search a 2D matrix"
   ]
  },
  {
   "cell_type": "markdown",
   "id": "b6ca2a53",
   "metadata": {},
   "source": [
    "# Question"
   ]
  },
  {
   "cell_type": "markdown",
   "id": "27ebd003",
   "metadata": {},
   "source": [
    "[74. Search a 2D Matrix](https://leetcode.com/problems/search-a-2d-matrix/description/?envType=study-plan-v2&envId=top-100-liked)"
   ]
  },
  {
   "cell_type": "markdown",
   "id": "150e002c",
   "metadata": {},
   "source": [
    "You are given an `m x n` integer matrix `matrix` with the following two properties:\n",
    "\n",
    "- Each row is sorted in non-decreasing order.\n",
    "- The first integer of each row is greater than the last integer of the previous row.\n",
    "\n",
    "Given an integer `target`, return `true` if `target` is in `matrix` or `false` otherwise.\n",
    "\n",
    "You must write a solution in `O(log(m * n))` time complexity.\n",
    "\n",
    "**Example 1:**\n",
    "<img src=\"https://assets.leetcode.com/uploads/2020/10/05/mat.jpg\"  alt=\"ImageFile\" style=\"width: 200px;float: middle;\" align=\"middle\"/>\n",
    "```\n",
    "Input: matrix = [[1,3,5,7],[10,11,16,20],[23,30,34,60]], target = 3\n",
    "Output: true\n",
    "```\n",
    "\n",
    "**Example 2:**\n",
    "<img src=\"https://assets.leetcode.com/uploads/2020/10/05/mat.jpg\"  alt=\"ImageFile\" style=\"width: 200px;float: middle;\" align=\"middle\"/>\n",
    "```\n",
    "Input: matrix = [[1,3,5,7],[10,11,16,20],[23,30,34,60]], target = 13\n",
    "Output: false\n",
    "```\n",
    "\n",
    "**Constraints:**\n",
    "- `m == matrix.length`\n",
    "- `n == matrix[i].length`\n",
    "- `1 <= m, n <= 100`\n",
    "- `10^4 <= matrix[i][j], target <= 104`"
   ]
  },
  {
   "cell_type": "markdown",
   "id": "0cbcfff2",
   "metadata": {},
   "source": [
    "# Knowledge Points"
   ]
  },
  {
   "cell_type": "markdown",
   "id": "8c4b26b0",
   "metadata": {},
   "source": [
    "## Binary Search"
   ]
  },
  {
   "cell_type": "markdown",
   "id": "bbc75019",
   "metadata": {},
   "source": [
    "**reference:**<br>\n",
    "[How to Do a Binary Search in Python](https://realpython.com/binary-search-python/#implementing-binary-search-in-python)"
   ]
  },
  {
   "cell_type": "markdown",
   "id": "5a3ad228",
   "metadata": {},
   "source": [
    "# Solutions"
   ]
  },
  {
   "cell_type": "markdown",
   "id": "1b2d7882",
   "metadata": {},
   "source": [
    "## Binary Search"
   ]
  },
  {
   "cell_type": "markdown",
   "id": "0b2cfd8f",
   "metadata": {},
   "source": [
    "### Example"
   ]
  },
  {
   "cell_type": "markdown",
   "id": "f1e1eb64",
   "metadata": {},
   "source": [
    "- 1.<br>\n",
    "define 4 pointers:`top`,`down`,`left`,`right`<br>\n",
    "  + initialize `top` with `0` and `down` with `len(matrix)-1`<br>\n",
    "  `top` points to the first row<br>\n",
    "  `down` points to the last row<br>\n",
    "  + initialize `left` with `0` and `right` with `len(matrix[0])-1`<br>\n",
    "  `left` points to the first column<br>\n",
    "  `right` points to the last column<br>\n",
    "- 2.<br>\n",
    "find which row the target is located in:<br>\n",
    "while `top` smaller or equal to `down`<br>\n",
    "`midrow` is the middle row between `top` row and `down` row:\n",
    "  + 2.1\n",
    "if `target` larger than `matrix[midrow][0]`<br>\n",
    "move `top` to `midrow+1`;\n",
    "  + 2.2 \n",
    "if `target` equal with `matrix[midrow][0]`, or, `target` is exactly the first number in the `midrow` row, return `True` and end;\n",
    "  + 2.3\n",
    "if `target` smaller than `matrix[midrow][0]`, or, `target` smaller than the first number in the `midrow` row, move `down` to `midrow-1`;\n",
    "\n",
    "&emsp;&emsp;&ensp;the target should locate in the `down` row\n",
    "- 3.<br>\n",
    "find which column the target is located in:<br>\n",
    "while `left` smaller or equal to `right`<br>\n",
    "`midcol` is the middle column between `left` column and `right` column:\n",
    "  + 3.1\n",
    "if `target` larger than `matrix[down][midcol]`<br>\n",
    "move `left` to `midcol+1`; \n",
    "  + 3.2\n",
    "if `target` equal with `matrix[down][midcol]`<br>\n",
    "return `True` and end;\n",
    "  + 3.3 \n",
    "if `target` smaller than `matrix[down][midcol]`<br>\n",
    "move `right` to `midcol+1`;\n",
    "\n",
    "&emsp;&emsp;&ensp;the target is not located in the `down` row, return `False`"
   ]
  },
  {
   "cell_type": "code",
   "execution_count": 17,
   "id": "47969db0",
   "metadata": {},
   "outputs": [
    {
     "name": "stdout",
     "output_type": "stream",
     "text": [
      "True\n"
     ]
    }
   ],
   "source": [
    "class Solution:\n",
    "    def searchMatrix(self, matrix, target: int) -> bool:\n",
    "        top, down = 0, len(matrix)-1                      # 1.\n",
    "        left, right = 0, len(matrix[0])-1\n",
    "        while left <= right:                              # 3.\n",
    "            midcol = left + (right - left) // 2\n",
    "            while top<=down:                              # 2.\n",
    "                midrow = top + (down - top) // 2\n",
    "                if target > matrix[midrow][0]:            # 2.1\n",
    "                    top = midrow + 1\n",
    "                elif target == matrix[midrow][0]:         # 2.2\n",
    "                    return True\n",
    "                else:\n",
    "                    down = midrow - 1                     # 2.3\n",
    "            if target > matrix[down][midcol]:             # 3.1     \n",
    "                left = midcol + 1\n",
    "            elif target == matrix[down][midcol]:          # 3.2\n",
    "                return True\n",
    "            else:\n",
    "                right = midcol - 1                        # 3.3\n",
    "        return False\n",
    "\n",
    "if __name__ == \"__main__\":\n",
    "    matrix = [[1,3,5,7],[10,11,16,20],[23,30,34,60]]\n",
    "    target = 16\n",
    "    sol = Solution()\n",
    "    index = sol.searchMatrix(matrix, target)\n",
    "    print(index)"
   ]
  },
  {
   "cell_type": "markdown",
   "id": "7bc4fd25",
   "metadata": {},
   "source": [
    "### Example"
   ]
  },
  {
   "cell_type": "markdown",
   "id": "02d5c8cf",
   "metadata": {},
   "source": [
    "Binary Search iterative by visualizing as a 1D array"
   ]
  },
  {
   "cell_type": "markdown",
   "id": "d3f425af",
   "metadata": {},
   "source": [
    "- 1.<br>\n",
    "define 2 pointers:`left`,`right`<br>\n",
    "  + initialize `left` with `0` and `right` with `len(matrix)*len(matrix[0])-1`<br>\n",
    "  `left` points to the first item<br>\n",
    "  `right` points to the last item<br>\n",
    "- 2.<br>\n",
    "while `left` smaller or equal to `right`<br>\n",
    "`mid` is the median between `left` and `right`<br>\n",
    "`mid` is located in the `r`th row<br>\n",
    "`mid` is located in the `c`th column<br>\n",
    "`mid` is equal with `matrix[r][c]`\n",
    "  + 2.1\n",
    "if `target` larger than `matrix[r][c]`<br>\n",
    "move `left` to `mid+1`;\n",
    "  + 2.2 \n",
    "if `target` equal with `matrix[r][c]`<br>\n",
    "return `True` and end;\n",
    "  + 2.3\n",
    "if `target` smaller than `matrix[r][c]`<br>\n",
    "move `right` to `mid-1`;\n",
    "\n",
    "&emsp;&emsp;&ensp;the target is not in `matrix`, return `False` and end;"
   ]
  },
  {
   "cell_type": "code",
   "execution_count": 18,
   "id": "9436f0aa",
   "metadata": {},
   "outputs": [
    {
     "name": "stdout",
     "output_type": "stream",
     "text": [
      "True\n"
     ]
    }
   ],
   "source": [
    "class Solution:\n",
    "    def searchMatrix(self, matrix, target: int) -> bool:\n",
    "        left, right = 0, len(matrix)*len(matrix[0])-1     # 1.\n",
    "\n",
    "        while left <= right:                              # 2.\n",
    "            mid = left + (right-left)//2\n",
    "            r, c = mid//len(matrix[0]), mid%len(matrix[0])\n",
    "            if target>matrix[r][c]:                       # 2.1\n",
    "                left = mid+1\n",
    "            elif target==matrix[r][c]:                    # 2.2\n",
    "                return True\n",
    "            else:                                         # 2.3\n",
    "                right = mid-1\n",
    "        return False\n",
    "\n",
    "if __name__ == \"__main__\":\n",
    "    matrix = [[1,3,5,7],[10,11,16,20],[23,30,34,60]]\n",
    "    target = 10\n",
    "    sol = Solution()\n",
    "    index = sol.searchMatrix(matrix, target)\n",
    "    print(index)"
   ]
  },
  {
   "cell_type": "markdown",
   "id": "9e961228",
   "metadata": {},
   "source": [
    "### Example"
   ]
  },
  {
   "cell_type": "markdown",
   "id": "dddf7a02",
   "metadata": {},
   "source": [
    "Binary Search Recursive by visualizing as a 1D array"
   ]
  },
  {
   "cell_type": "markdown",
   "id": "51ab5e6f",
   "metadata": {},
   "source": [
    "- 1.<br>\n",
    "define 2 pointers:`left`,`right`<br>\n",
    "while `left` smaller or equal to `right`<br>\n",
    "`mid` is the median between `left` and `right`<br>\n",
    "`mid` is located in the `r`th row<br>\n",
    "`mid` is located in the `c`th column<br>\n",
    "`mid` is equal with `matrix[r][c]`\n",
    "  + 1.1\n",
    "if `target` larger than `matrix[r][c]`<br>\n",
    "move `left` to `mid+1`<br>\n",
    "return **1.** with (mid+1, right)\n",
    "  + 2.2 \n",
    "if `target` equal with `matrix[r][c]`<br>\n",
    "return `True` and end;\n",
    "  + 2.3\n",
    "if `target` smaller than `matrix[r][c]`<br>\n",
    "move `right` to `mid-1`<br>\n",
    "return **1.** with (left, mid-1)\n",
    "\n",
    "&emsp;&emsp;&ensp;the target is not in `[left, right]`, return `False` and end;\n",
    "\n",
    "- 2. return **1.** with (0, len(matrix)*len(matrix[0])-1)"
   ]
  },
  {
   "cell_type": "code",
   "execution_count": 19,
   "id": "280631d7",
   "metadata": {},
   "outputs": [
    {
     "name": "stdout",
     "output_type": "stream",
     "text": [
      "False\n"
     ]
    }
   ],
   "source": [
    "class Solution:\n",
    "    def searchMatrix(self, matrix, target: int) -> bool:\n",
    "        def search(left, right):                               # 1.\n",
    "            while left<=right:                                  \n",
    "                mid = left + (right-left)//2\n",
    "                r, c = mid//len(matrix[0]), mid%len(matrix[0])\n",
    "                if target > matrix[r][c]:                      # 1.1\n",
    "                    return search(mid+1, right)                # 1.\n",
    "                elif target == matrix[r][c]:                   # 1.2\n",
    "                    return True\n",
    "                else:                                          # 1.3\n",
    "                    return search(left, mid-1)                 # 1\n",
    "            return False                                       # 1.4\n",
    "\n",
    "        return search(0, len(matrix)*len(matrix[0])-1)         # 2.\n",
    "\n",
    "if __name__ == \"__main__\":\n",
    "    matrix = [[1,3,5,7],[10,11,16,20],[23,30,34,60]]\n",
    "    target = 51\n",
    "    sol = Solution()\n",
    "    index = sol.searchMatrix(matrix, target)\n",
    "    print(index)"
   ]
  }
 ],
 "metadata": {
  "kernelspec": {
   "display_name": "Python 3 (ipykernel)",
   "language": "python",
   "name": "python3"
  },
  "language_info": {
   "codemirror_mode": {
    "name": "ipython",
    "version": 3
   },
   "file_extension": ".py",
   "mimetype": "text/x-python",
   "name": "python",
   "nbconvert_exporter": "python",
   "pygments_lexer": "ipython3",
   "version": "3.9.7"
  },
  "toc": {
   "base_numbering": 1,
   "nav_menu": {},
   "number_sections": true,
   "sideBar": true,
   "skip_h1_title": false,
   "title_cell": "Table of Contents",
   "title_sidebar": "Contents",
   "toc_cell": false,
   "toc_position": {},
   "toc_section_display": true,
   "toc_window_display": false
  }
 },
 "nbformat": 4,
 "nbformat_minor": 5
}
