{
 "cells": [
  {
   "cell_type": "markdown",
   "id": "fe2b1b20",
   "metadata": {},
   "source": [
    "LeetCode | Top 100 | 75. Sort Colors"
   ]
  },
  {
   "cell_type": "markdown",
   "id": "fa51aeb8",
   "metadata": {},
   "source": [
    "# Question"
   ]
  },
  {
   "cell_type": "markdown",
   "id": "c2047f03",
   "metadata": {},
   "source": [
    "[75. Sort Colors](https://leetcode.com/problems/sort-colors/description/)"
   ]
  },
  {
   "cell_type": "markdown",
   "id": "c04e0f00",
   "metadata": {},
   "source": [
    "Given an array `nums` with `n` objects colored red, white, or blue, sort them in-place so that objects of the same color are adjacent, with the colors in the order red, white, and blue.\n",
    "\n",
    "We will use the integers `0`, `1`, and `2` to represent the color red, white, and blue, respectively.\n",
    "\n",
    "You must solve this problem without using the library's sort function.\n",
    "<br><br>\n",
    "\n",
    " \n",
    "**Example 1**\n",
    "```\n",
    "Input: nums = [2,0,2,1,1,0]\n",
    "Output: [0,0,1,1,2,2]\n",
    "```\n",
    "\n",
    "**Example 2**\n",
    "```\n",
    "Input: nums = [2,0,1]\n",
    "Output: [0,1,2]\n",
    "```\n",
    "\n",
    "**Constraints**\n",
    "- `n == nums.length`\n",
    "- `1 <= n <= 300`\n",
    "- `nums[i]` is either `0`, `1`, or `2`.\n",
    "<br>\n",
    "\n",
    "**Follow up** Could you come up with a one-pass algorithm using only constant extra space?"
   ]
  },
  {
   "cell_type": "markdown",
   "id": "a0de0474",
   "metadata": {},
   "source": [
    "# Knowledge Points"
   ]
  },
  {
   "cell_type": "markdown",
   "id": "6eb28ff6",
   "metadata": {},
   "source": [
    "## Bubble Sort"
   ]
  },
  {
   "cell_type": "markdown",
   "id": "dfdc1a7d",
   "metadata": {},
   "source": [
    "reference: [Bubble sort in Python](https://ecomputernotes.com/python/bubble-sort-in-python)"
   ]
  },
  {
   "cell_type": "markdown",
   "id": "64eb9abf",
   "metadata": {},
   "source": [
    "<img src=\"https://www.runoob.com/wp-content/uploads/2019/03/bubbleSort.gif\"  alt=\"ImageFile\" style=\"width: 500px;\" align=\"middle\"/>"
   ]
  },
  {
   "cell_type": "markdown",
   "id": "a433bf29",
   "metadata": {},
   "source": [
    "<img src=\"https://ecomputernotes.com/images/Bubble-Sort-in-python.jpg\"  alt=\"ImageFile\" style=\"width: 500px;\" align=\"middle\"/>"
   ]
  },
  {
   "cell_type": "markdown",
   "id": "24b57cd7",
   "metadata": {},
   "source": [
    "The figure above illustrates the working of bubble sort algorithm.\n",
    "\n",
    "Bubble sort compares and swaps each pair of adjacent items if they are in the wrong order. The list is passed through until no swaps are needed, meaning that the list is sorted. The algorithm is a comparison sort, and it’s named for the `bubble` of smaller elements at the top of the list. Although the algorithm is easy, even when compared to insertion, it is too slow and impractical for most problems.\n",
    "\n",
    "I’ve enabled so what we’ll do is we take some values here to understand how bubble sort works in theory. so let’s take some values\n",
    "```\n",
    "[5 3 8 6 7 2]\n",
    "```\n",
    "\n",
    "Now we’ll sort these values, and there are a lot of sorting techniques available right almost in every sorting technique, we have one thing common, which is swapping.\n",
    "\n",
    "So basically you swap elements, so it and that’s how you will make sure that your all the values are sorted. So swapping is one of the important concepts, so make sure that you know the concept of swapping.\n",
    "\n",
    "so what we normally do is we take a third variable here so example\n",
    "\n",
    "`Swapping`\n",
    "```\n",
    "a → b\n",
    "a → t\n",
    "b → a\n",
    "t → b\n",
    "```\n",
    "If you have a and b and if you want to swap them. We will take a third variable. Let’s say t, and you will keep the value of a and t, then you will copy the value from b to a, and then you will copy the value from t to b that’s how you sort two values, and we’ll be doing that in this tutorial.\n",
    "\n",
    "We’ll compare the first two values. In this case, it is five and three. Right now you have to make sure that the smallest one comes first,\n",
    "```\n",
    "If 5 > 3 Swapped\n",
    "```\n",
    "if the first value is greater than the second value swap, in this case, it is greater, so five is greater than three. so what you will do, you will swap it so now after swapping the values are\n",
    "```\n",
    "[3 5 8 6 7 2]\n",
    "```\n",
    "Now you will go forward if you have to make sure that if the first value is greater than the second value. You then swap otherwise skip. In this case, it is smaller.\n",
    "\n",
    "We don’t have to swap now. What you will do is, you will iterate at this point.\n",
    "```\n",
    "[3 5 8 6 7 2]\n",
    "```\n",
    "Next you will compare eight and six. In this case, eight is greater than six. You have to swap as usual, after swapping you will get six and eight, so the final value you will get\n",
    "```\n",
    "[3 5 6 8 7 2]\n",
    "```\n",
    "you have to do the same thing till the end so let’s pick it quick so now you will compare eight and seven right again we know eight is greater than seven we will swap the new value we’ll get\n",
    "```\n",
    "[3 5 6 7 8 2]\n",
    "```\n",
    "the last comparison we have eight and two and of course we know we have to swap so at the end you will get\n",
    "```\n",
    "[3 5 6 7 2 8]\n",
    "```\n",
    "Now, after this iteration, which is eight at the end, you’ve got the biggest value at the end, but if anybody’s is not sorted, we have to reiterate the same thing, so it’s all about comparing and swapping.\n",
    "\n",
    "Now you will start again, and you will compare to first two values with three and five three smaller don’t have to swap then will compare five and six no need to swap then you will compare 6 and 7, or then you will compare 7 & 2 we have to swap here then it becomes 2 & 7 right, so the final values are\n",
    "```\n",
    "[3 5 6 2 7 8]\n",
    "```\n",
    "There is one thing which is important for the second iteration we are not checking for 8 because it is done, so the maximum value you have is at the end and after psychiatrists in the second last value is the second big element if you can compare the list now 7 and 8 those are the maximum values, so after second iteration you got two big values in ascending order that means after all the iterations, so the number of elements. We have 6 sorts of the fifth iteration.\n",
    "```\n",
    "[2 3 5 6 7 8]\n",
    "```\n",
    "You will get all the values sorted if you repeat the same step. That’s what bubble sort is, and that’s why we acquire two loops one for the iteration, which will make sure that you will get the biggest element at the end, and the second loop, which is the outer loop, will before do the same thing repeatedly and that’s what you have to do in this code."
   ]
  },
  {
   "cell_type": "markdown",
   "id": "82473745",
   "metadata": {},
   "source": [
    "## Two Pointers"
   ]
  },
  {
   "cell_type": "markdown",
   "id": "1da3c33f",
   "metadata": {},
   "source": [
    "reference: [15_3Sum.ipynb](https://github.com/mangomangomango0820/LeetCode/blob/main/Python/Top%20100%20Liked%20Questions/15_3Sum.ipynb)"
   ]
  },
  {
   "cell_type": "markdown",
   "id": "49c23614",
   "metadata": {},
   "source": [
    "# Solutions"
   ]
  },
  {
   "cell_type": "markdown",
   "id": "e2c95497",
   "metadata": {},
   "source": [
    "## Bubble Sort"
   ]
  },
  {
   "cell_type": "markdown",
   "id": "b52d45e1",
   "metadata": {},
   "source": [
    "- [x] 1. iterarte over range `(0, len(nums)-1)` by `i`;\n",
    "- [x] 2. set a flag named `isSorted`: if `isSorted=True`, it means every element in the list is sorted; else, it needs more sorting;\n",
    "- [x] 3. iterate over range `(0, len(nums)-1-i)`, because the last `i` elements should have been sorted as expected;\n",
    "- [x] 4. if `nums[j]>nums[j+1]`, it still needs more sorting, set `isSorted` to `False`;\n",
    "- [x] 5. if `isSorted=True`, sorting has done, it is time to jump out of the loop;"
   ]
  },
  {
   "cell_type": "code",
   "execution_count": 16,
   "id": "5c5257a3",
   "metadata": {},
   "outputs": [],
   "source": [
    "class Solution:\n",
    "    def sortColors(self, nums: list):\n",
    "        for i in range(len(nums)-1):                         # 1\n",
    "            isSorted = True                                  # 2\n",
    "            for j in range(0, len(nums)-1-i):                # 3\n",
    "                if nums[j] > nums[j+1]:                      # 4\n",
    "                    nums[j], nums[j+1] = nums[j+1], nums[j]\n",
    "                    isSorted = False                         # 5\n",
    "            if isSorted:                                     # 6\n",
    "                break\n",
    "        return nums\n",
    "\n",
    "if __name__ == '__main__':\n",
    "    nums = [2,0,2,1,1,0]\n",
    "    sol = Solution()\n",
    "    output = sol.sortColors(nums=nums)"
   ]
  },
  {
   "cell_type": "code",
   "execution_count": 17,
   "id": "4a71855c",
   "metadata": {},
   "outputs": [
    {
     "data": {
      "text/plain": [
       "[0, 0, 1, 1, 2, 2]"
      ]
     },
     "execution_count": 17,
     "metadata": {},
     "output_type": "execute_result"
    }
   ],
   "source": [
    "output"
   ]
  },
  {
   "cell_type": "markdown",
   "id": "c377286f",
   "metadata": {},
   "source": [
    "## Two pointers"
   ]
  },
  {
   "cell_type": "markdown",
   "id": "86f57861",
   "metadata": {},
   "source": [
    "reference: [One pass O(n) time O(1) space | 3-pointer approach](https://leetcode.com/problems/sort-colors/solutions/1078865/one-pass-o-n-time-o-1-space-3-pointer-approach/?orderBy=most_votes&languageTags=python3)"
   ]
  },
  {
   "cell_type": "markdown",
   "id": "823e3730",
   "metadata": {},
   "source": [
    "- [x] 1. initialize left index `l` of list `nums` with `0`, right index `r` with `len(nums)-1` and middle index `m` with `0`;\n",
    "- [x] 2. while middle index `m` is smaller than or equal with right index `r`, or, `m` is at the left side of `r`:<br>\n",
    "2.1 if `nums[m]==2`, exchange `nums[m]` with `nums[r]`. Now, `nums[r]==2`, `r`th value in `nums` has been sorted, so `r-=1` to move right boundary to its left, shrink iteration index range;<br>\n",
    "2.2 if `nums[m]==0`, exchange `nums[m]` with `nums[l]`. Now, `nums[l]==0`, `l`th value in `nums` has been sorted, so `l+=1` and `m+=1` to move left boundary to its right, shrink iteration index range;<br>\n",
    "2.3 if `nums[m]==1`, need not to do any exchange, `m+=1` to move right to next target element;"
   ]
  },
  {
   "cell_type": "code",
   "execution_count": 18,
   "id": "d1e6886a",
   "metadata": {},
   "outputs": [],
   "source": [
    "class Solution:\n",
    "    def sortColors(self, nums: list):\n",
    "        l, m, r = 0, 0, len(nums)-1                          # 1\n",
    "\n",
    "        while m <= r:                                        # 2\n",
    "            if nums[m]==2:                                   # 2.1\n",
    "                nums[m], nums[r] = nums[r], nums[m]\n",
    "                r -= 1\n",
    "            elif nums[m]==0:                                 # 2.2\n",
    "                nums[m], nums[l] = nums[l], nums[m]\n",
    "                m += 1\n",
    "                l += 1\n",
    "            else:                                            # 2.3\n",
    "                m += 1\n",
    "\n",
    "        return nums\n",
    "    \n",
    "if __name__ == '__main__':\n",
    "    nums = [2,0,2,1,1,0]\n",
    "    sol = Solution()\n",
    "    output = sol.sortColors(nums=nums)"
   ]
  },
  {
   "cell_type": "code",
   "execution_count": 19,
   "id": "8171e4d5",
   "metadata": {},
   "outputs": [
    {
     "data": {
      "text/plain": [
       "[0, 0, 1, 1, 2, 2]"
      ]
     },
     "execution_count": 19,
     "metadata": {},
     "output_type": "execute_result"
    }
   ],
   "source": [
    "output"
   ]
  }
 ],
 "metadata": {
  "kernelspec": {
   "display_name": "Python 3 (ipykernel)",
   "language": "python",
   "name": "python3"
  },
  "language_info": {
   "codemirror_mode": {
    "name": "ipython",
    "version": 3
   },
   "file_extension": ".py",
   "mimetype": "text/x-python",
   "name": "python",
   "nbconvert_exporter": "python",
   "pygments_lexer": "ipython3",
   "version": "3.9.7"
  }
 },
 "nbformat": 4,
 "nbformat_minor": 5
}
