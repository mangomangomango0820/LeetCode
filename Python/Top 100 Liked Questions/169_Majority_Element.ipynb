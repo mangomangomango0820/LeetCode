{
 "cells": [
  {
   "cell_type": "markdown",
   "id": "d3d74723",
   "metadata": {},
   "source": [
    "LeetCode | Top 100 | 169. Majority Element"
   ]
  },
  {
   "cell_type": "markdown",
   "id": "28845c4d",
   "metadata": {},
   "source": [
    "# Question"
   ]
  },
  {
   "cell_type": "markdown",
   "id": "e91805ea",
   "metadata": {},
   "source": [
    "[169. Majority Element](https://leetcode.com/problems/majority-element/description/)"
   ]
  },
  {
   "cell_type": "markdown",
   "id": "5df40571",
   "metadata": {},
   "source": [
    "Given an array `nums` of size `n`, return the majority element.<br>\n",
    "The majority element is the element that appears more than `⌊n / 2⌋` times. You may assume that the majority element always exists in the array.\n",
    "\n",
    "**Example 1:**\n",
    "```\n",
    "Input: nums = [3,2,3]\n",
    "Output: 3\n",
    "```\n",
    "\n",
    "**Example 2:**\n",
    "```\n",
    "Input: nums = [2,2,1,1,1,2,2]\n",
    "Output: 2\n",
    "```\n",
    "<br>\n",
    "\n",
    "**Constraints:**\n",
    "- `n == nums.length`\n",
    "- `1 <= n <= 5 * 10^4`\n",
    "- `-10^9 <= nums[i] <= 10^9`\n",
    "<br><br>\n",
    "\n",
    "**Follow-up:** Could you solve the problem in linear time and in `O(1)` space?"
   ]
  },
  {
   "cell_type": "markdown",
   "id": "04f6bc79",
   "metadata": {},
   "source": [
    "# Knowledge Points"
   ]
  },
  {
   "cell_type": "markdown",
   "id": "dc42fc87",
   "metadata": {},
   "source": [
    "reference: [Interview Strategy Solution | 4 Solutions | Easy explanation](https://leetcode.com/problems/majority-element/solutions/1376230/interview-strategy-solution-4-solutions-easy-explanation/?orderBy=most_votes&languageTags=c)"
   ]
  },
  {
   "cell_type": "markdown",
   "id": "64d29b76",
   "metadata": {},
   "source": [
    "## collections.Counter"
   ]
  },
  {
   "cell_type": "markdown",
   "id": "e9064ae6",
   "metadata": {},
   "source": [
    "### Concept"
   ]
  },
  {
   "cell_type": "markdown",
   "id": "cfe73702",
   "metadata": {},
   "source": [
    "[collections ](https://docs.python.org/3/library/collections.html#counter-objects)"
   ]
  },
  {
   "cell_type": "markdown",
   "id": "3defd9b6",
   "metadata": {},
   "source": [
    "`most_common([n])`，Return a list of the `n` most common elements and their counts from the most common to the least. If `n` is omitted or None, `most_common()` returns all elements in the counter. Elements with equal counts are ordered in the order first encountered:"
   ]
  },
  {
   "cell_type": "markdown",
   "id": "97a283db",
   "metadata": {},
   "source": [
    "### Example"
   ]
  },
  {
   "cell_type": "markdown",
   "id": "010c6711",
   "metadata": {},
   "source": [
    "**Example 1**:"
   ]
  },
  {
   "cell_type": "code",
   "execution_count": 41,
   "id": "266b6de0",
   "metadata": {},
   "outputs": [
    {
     "data": {
      "text/plain": [
       "Counter({'a': 5, 'b': 2, 'r': 2, 'c': 1, 'd': 1})"
      ]
     },
     "execution_count": 41,
     "metadata": {},
     "output_type": "execute_result"
    }
   ],
   "source": [
    "from collections import Counter\n",
    "freq = Counter('abracadabra')\n",
    "freq"
   ]
  },
  {
   "cell_type": "code",
   "execution_count": 42,
   "id": "2ed8dead",
   "metadata": {},
   "outputs": [
    {
     "data": {
      "text/plain": [
       "[('a', 5), ('b', 2), ('r', 2)]"
      ]
     },
     "execution_count": 42,
     "metadata": {},
     "output_type": "execute_result"
    }
   ],
   "source": [
    "freq.most_common(3)"
   ]
  },
  {
   "cell_type": "code",
   "execution_count": 43,
   "id": "f09966de",
   "metadata": {},
   "outputs": [
    {
     "data": {
      "text/plain": [
       "list"
      ]
     },
     "execution_count": 43,
     "metadata": {},
     "output_type": "execute_result"
    }
   ],
   "source": [
    "type(freq.most_common(3))"
   ]
  },
  {
   "cell_type": "code",
   "execution_count": 44,
   "id": "d6c04f2b",
   "metadata": {},
   "outputs": [
    {
     "data": {
      "text/plain": [
       "tuple"
      ]
     },
     "execution_count": 44,
     "metadata": {},
     "output_type": "execute_result"
    }
   ],
   "source": [
    "type(freq.most_common(3)[0])"
   ]
  },
  {
   "cell_type": "markdown",
   "id": "239f4462",
   "metadata": {},
   "source": [
    "**Example 2**:"
   ]
  },
  {
   "cell_type": "code",
   "execution_count": 45,
   "id": "318f5dee",
   "metadata": {},
   "outputs": [
    {
     "data": {
      "text/plain": [
       "Counter({'red': 2, 'blue': 3, 'green': 1})"
      ]
     },
     "execution_count": 45,
     "metadata": {},
     "output_type": "execute_result"
    }
   ],
   "source": [
    "from collections import Counter\n",
    "freq = Counter(['red', 'blue', 'red', 'green', 'blue', 'blue'])\n",
    "freq"
   ]
  },
  {
   "cell_type": "code",
   "execution_count": 46,
   "id": "82efc9f2",
   "metadata": {},
   "outputs": [
    {
     "data": {
      "text/plain": [
       "[('blue', 3), ('red', 2)]"
      ]
     },
     "execution_count": 46,
     "metadata": {},
     "output_type": "execute_result"
    }
   ],
   "source": [
    "freq.most_common(2)"
   ]
  },
  {
   "cell_type": "code",
   "execution_count": 47,
   "id": "94e6f3a1",
   "metadata": {},
   "outputs": [
    {
     "data": {
      "text/plain": [
       "list"
      ]
     },
     "execution_count": 47,
     "metadata": {},
     "output_type": "execute_result"
    }
   ],
   "source": [
    "type(freq.most_common(2))"
   ]
  },
  {
   "cell_type": "markdown",
   "id": "91b1a65f",
   "metadata": {},
   "source": [
    "## sorted"
   ]
  },
  {
   "cell_type": "markdown",
   "id": "6e262407",
   "metadata": {},
   "source": [
    "### Concept"
   ]
  },
  {
   "cell_type": "markdown",
   "id": "7f22805d",
   "metadata": {},
   "source": [
    "[Sorting HOW TO](https://docs.python.org/3/howto/sorting.html)"
   ]
  },
  {
   "cell_type": "markdown",
   "id": "09f8dc78",
   "metadata": {},
   "source": [
    "Both `list.sort()` and `sorted()` have a key parameter to specify a function (or other callable) to be called on each list element prior to making comparisons."
   ]
  },
  {
   "cell_type": "markdown",
   "id": "f926ff78",
   "metadata": {},
   "source": [
    "### Example"
   ]
  },
  {
   "cell_type": "markdown",
   "id": "2139290d",
   "metadata": {},
   "source": [
    "**Example 1:**"
   ]
  },
  {
   "cell_type": "code",
   "execution_count": 48,
   "id": "6036f5e1",
   "metadata": {},
   "outputs": [
    {
     "data": {
      "text/plain": [
       "[('john', 'A', 15), ('jane', 'B', 12), ('dave', 'B', 10)]"
      ]
     },
     "execution_count": 48,
     "metadata": {},
     "output_type": "execute_result"
    }
   ],
   "source": [
    "student_tuples = [\n",
    "    ('john', 'A', 15),\n",
    "    ('jane', 'B', 12),\n",
    "    ('dave', 'B', 10),\n",
    "]\n",
    "sorted(student_tuples, key=lambda student: student[2], reverse=True)   # sort by age"
   ]
  },
  {
   "cell_type": "markdown",
   "id": "e19088ef",
   "metadata": {},
   "source": [
    "## max"
   ]
  },
  {
   "cell_type": "markdown",
   "id": "157d38a4",
   "metadata": {},
   "source": [
    "### Concept"
   ]
  },
  {
   "cell_type": "markdown",
   "id": "aedcfcaa",
   "metadata": {},
   "source": [
    "[Built-in Functions](https://docs.python.org/3/library/functions.html?highlight=max#max)"
   ]
  },
  {
   "cell_type": "markdown",
   "id": "790ea1d3",
   "metadata": {},
   "source": [
    "`max(iterable, *, key=None)`<br>\n",
    "`max(iterable, *, default, key=None)`<br>\n",
    "`max(arg1, arg2, *args, key=None)`\n",
    "\n",
    "Return the largest item in an iterable or the largest of two or more arguments.\n",
    "\n",
    "If one positional argument is provided, it should be an `iterable`. The largest item in the iterable is returned. If two or more positional arguments are provided, the largest of the positional arguments is returned.\n",
    "\n",
    "There are two optional keyword-only arguments. The key argument specifies a one-argument ordering function like that used for `list.sort()`. The default argument specifies an object to return if the provided iterable is empty. If the iterable is empty and default is not provided, a `ValueError` is raised.\n",
    "\n",
    "If multiple items are maximal, the function returns the first one encountered. This is consistent with other sort-stability preserving tools such as `sorted(iterable, key=keyfunc, reverse=True)[0]` and `heapq.nlargest(1, iterable, key=keyfunc)`.\n",
    "\n",
    "New in version `3.4`: The default keyword-only argument.\n",
    "\n",
    "Changed in version `3.8`: The key can be `None`."
   ]
  },
  {
   "cell_type": "markdown",
   "id": "1c0f8a22",
   "metadata": {},
   "source": [
    "### Example"
   ]
  },
  {
   "cell_type": "markdown",
   "id": "35a9c8bf",
   "metadata": {},
   "source": [
    "**Example 1.**"
   ]
  },
  {
   "cell_type": "code",
   "execution_count": 49,
   "id": "a1b4a8fe",
   "metadata": {},
   "outputs": [],
   "source": [
    "nums = [-1,1,1,1,2,1]"
   ]
  },
  {
   "cell_type": "code",
   "execution_count": 50,
   "id": "f239e206",
   "metadata": {},
   "outputs": [
    {
     "data": {
      "text/plain": [
       "{-1: 1, 1: 4, 2: 1}"
      ]
     },
     "execution_count": 50,
     "metadata": {},
     "output_type": "execute_result"
    }
   ],
   "source": [
    "d = {-1: 1, 1: 4, 2: 1}\n",
    "d"
   ]
  },
  {
   "cell_type": "code",
   "execution_count": 51,
   "id": "5d310be0",
   "metadata": {},
   "outputs": [
    {
     "data": {
      "text/plain": [
       "1"
      ]
     },
     "execution_count": 51,
     "metadata": {},
     "output_type": "execute_result"
    }
   ],
   "source": [
    "max(nums, key=d.get)"
   ]
  },
  {
   "cell_type": "markdown",
   "id": "fa73e083",
   "metadata": {},
   "source": [
    "**Example 2.**"
   ]
  },
  {
   "cell_type": "code",
   "execution_count": 52,
   "id": "50aa0ffd",
   "metadata": {},
   "outputs": [],
   "source": [
    "nums = [-1,1,1,1,2,1]"
   ]
  },
  {
   "cell_type": "code",
   "execution_count": 53,
   "id": "dad4ae82",
   "metadata": {},
   "outputs": [
    {
     "data": {
      "text/plain": [
       "{-1, 1, 2}"
      ]
     },
     "execution_count": 53,
     "metadata": {},
     "output_type": "execute_result"
    }
   ],
   "source": [
    "set(nums)"
   ]
  },
  {
   "cell_type": "code",
   "execution_count": 54,
   "id": "49b50806",
   "metadata": {},
   "outputs": [
    {
     "data": {
      "text/plain": [
       "1"
      ]
     },
     "execution_count": 54,
     "metadata": {},
     "output_type": "execute_result"
    }
   ],
   "source": [
    "max(set(nums), key=nums.count)"
   ]
  },
  {
   "cell_type": "markdown",
   "id": "bcd2d1eb",
   "metadata": {},
   "source": [
    "## numpy.median"
   ]
  },
  {
   "cell_type": "markdown",
   "id": "5e45d22b",
   "metadata": {},
   "source": [
    "### Concept"
   ]
  },
  {
   "cell_type": "markdown",
   "id": "f607b32a",
   "metadata": {},
   "source": [
    "`numpy.median(a, axis=None, out=None, overwrite_input=False, keepdims=False)`<br><br>\n",
    "Given a vector `V` of length `N`, the median of `V` is the middle value of a sorted copy of `V`, `V_sorted` - i e., `V_sorted[(N-1)/2]`, when `N` is odd, and the average of the two middle values of `V_sorted` when `N` is even."
   ]
  },
  {
   "cell_type": "markdown",
   "id": "c56cffa6",
   "metadata": {},
   "source": [
    "### Example"
   ]
  },
  {
   "cell_type": "markdown",
   "id": "1be8fc2e",
   "metadata": {},
   "source": [
    "**Example 1.**"
   ]
  },
  {
   "cell_type": "code",
   "execution_count": 55,
   "id": "f84e3dff",
   "metadata": {},
   "outputs": [],
   "source": [
    "import numpy as np"
   ]
  },
  {
   "cell_type": "code",
   "execution_count": 56,
   "id": "6329089f",
   "metadata": {},
   "outputs": [],
   "source": [
    "a = np.array([[10, 7, 4], [3, 2, 1]])"
   ]
  },
  {
   "cell_type": "code",
   "execution_count": 57,
   "id": "93a3b5d6",
   "metadata": {},
   "outputs": [
    {
     "data": {
      "text/plain": [
       "array([[10,  7,  4],\n",
       "       [ 3,  2,  1]])"
      ]
     },
     "execution_count": 57,
     "metadata": {},
     "output_type": "execute_result"
    }
   ],
   "source": [
    "a"
   ]
  },
  {
   "cell_type": "code",
   "execution_count": 58,
   "id": "e2a1db75",
   "metadata": {},
   "outputs": [
    {
     "data": {
      "text/plain": [
       "3.5"
      ]
     },
     "execution_count": 58,
     "metadata": {},
     "output_type": "execute_result"
    }
   ],
   "source": [
    "np.median(a)"
   ]
  },
  {
   "cell_type": "code",
   "execution_count": 59,
   "id": "4bbb9b14",
   "metadata": {},
   "outputs": [
    {
     "data": {
      "text/plain": [
       "array([6.5, 4.5, 2.5])"
      ]
     },
     "execution_count": 59,
     "metadata": {},
     "output_type": "execute_result"
    }
   ],
   "source": [
    "np.median(a, axis=0)"
   ]
  },
  {
   "cell_type": "code",
   "execution_count": 60,
   "id": "ee1c75fc",
   "metadata": {},
   "outputs": [
    {
     "data": {
      "text/plain": [
       "array([7., 2.])"
      ]
     },
     "execution_count": 60,
     "metadata": {},
     "output_type": "execute_result"
    }
   ],
   "source": [
    "np.median(a, axis=1)"
   ]
  },
  {
   "cell_type": "markdown",
   "id": "107dc757",
   "metadata": {},
   "source": [
    "**Example 2.**"
   ]
  },
  {
   "cell_type": "code",
   "execution_count": 61,
   "id": "f733d539",
   "metadata": {},
   "outputs": [],
   "source": [
    "import numpy"
   ]
  },
  {
   "cell_type": "code",
   "execution_count": 62,
   "id": "91e08b71",
   "metadata": {},
   "outputs": [],
   "source": [
    "a = [10, 7, 4, 3, 2, 1]"
   ]
  },
  {
   "cell_type": "code",
   "execution_count": 63,
   "id": "d3051057",
   "metadata": {},
   "outputs": [
    {
     "data": {
      "text/plain": [
       "3.5"
      ]
     },
     "execution_count": 63,
     "metadata": {},
     "output_type": "execute_result"
    }
   ],
   "source": [
    "np.median(a)"
   ]
  },
  {
   "cell_type": "markdown",
   "id": "6b28142c",
   "metadata": {},
   "source": [
    "## Boyer-Moore's Voting Algorithm"
   ]
  },
  {
   "cell_type": "markdown",
   "id": "2cf764c2",
   "metadata": {},
   "source": [
    "reference:<br>\n",
    "[The Boyer-Moore Majority Vote Algorithm](https://www.cs.rug.nl/~wim/pub/whh348.pdf)<br>\n",
    "[Majority Voting Algorithm Find the majority element in a list of values](https://gregable.com/2013/10/majority-vote-algorithm-find-majority.html)<br>\n",
    "[Boyer-Moore投票算法](https://www.cnblogs.com/tuilk/p/16853697.html)"
   ]
  },
  {
   "cell_type": "markdown",
   "id": "9638a06e",
   "metadata": {},
   "source": [
    "The `Boyer-Moore's Voting Algorithm` is presented in this paper: `Boyer-Moore Majority Vote Algorithm`. The algorithm uses `O(1)` extra space and `O(N)` time. It requires exactly `2` passes over the input list. It's also quite simple to implement, though a little trickier to understand how it works.\n",
    "\n",
    "In the first pass, we generate a single `candidate` value which is the majority value if there is a majority. The second pass simply counts the frequency of that value to confirm. The first pass is the interesting part.\n",
    "\n",
    "In the first pass, we need 2 values:\n",
    "1. A `candidate` value, initially set to any value.\n",
    "2. A `count`, initially set to `0`.\n",
    "For each element in our input list, we first examine the `count` value. If the `count` is equal to 0, we set the candidate to the value at the current element. Next, first compare the element's value to the current `candidate` value. If they are the same, we increment count by `1`. If they are different, we decrement count by `1`.\n",
    "\n",
    "To illustrate it more vividly, giving an example:<br>\n",
    "4 person has to compete for the position of president, only when someone's votes are more than half of the total votes, he/she can take this seat. As shown below:"
   ]
  },
  {
   "cell_type": "markdown",
   "id": "792eba25",
   "metadata": {},
   "source": [
    "<img src=\"https://img2022.cnblogs.com/blog/2026333/202211/2026333-20221103103220755-2050891004.png\"  alt=\"ImageFile\" style=\"width: 500px;\" align=\"middle\"/>"
   ]
  },
  {
   "cell_type": "markdown",
   "id": "1825de2b",
   "metadata": {},
   "source": [
    "In the first 4 votes, Mike takes 2 votes, Tina and John each takes 1 vote. No one has more than 2 votes. It's like that everything goes to the origial point."
   ]
  },
  {
   "cell_type": "markdown",
   "id": "e7e6f1d5",
   "metadata": {},
   "source": [
    "<img src=\"https://img2022.cnblogs.com/blog/2026333/202211/2026333-20221103103547203-439454110.png\"  alt=\"ImageFile\" style=\"width: 500px;\" align=\"middle\"/>"
   ]
  },
  {
   "cell_type": "markdown",
   "id": "84b5566b",
   "metadata": {},
   "source": [
    "From 5th to 8th votes, similarily, Mike takes 2 votes, John and Henry each takes 1 vote. Same as above."
   ]
  },
  {
   "cell_type": "markdown",
   "id": "bd5daa95",
   "metadata": {},
   "source": [
    "<img src=\"https://img2022.cnblogs.com/blog/2026333/202211/2026333-20221103103738669-477311003.png\"  alt=\"ImageFile\" style=\"width: 500px;\" align=\"middle\"/>"
   ]
  },
  {
   "cell_type": "markdown",
   "id": "7a26ead5",
   "metadata": {},
   "source": [
    "In last 2 votes, only Mike takes 2 votes. So, Mike will win the position of president."
   ]
  },
  {
   "cell_type": "markdown",
   "id": "3416a3f5",
   "metadata": {},
   "source": [
    "<img src=\"https://img2022.cnblogs.com/blog/2026333/202211/2026333-20221103103738669-477311003.png\"  alt=\"ImageFile\" style=\"width: 500px;\" align=\"middle\"/>"
   ]
  },
  {
   "cell_type": "markdown",
   "id": "e0c19515",
   "metadata": {},
   "source": [
    "# Solutions"
   ]
  },
  {
   "cell_type": "markdown",
   "id": "f5fa2e34",
   "metadata": {},
   "source": [
    "reference: [5 Different one-liners in Python - Counter, mode, sort, numpy and set](https://leetcode.com/problems/majority-element/solutions/3226984/5-different-one-liners-in-python-counter-mode-sort-numpy-and-set/?orderBy=most_votes&languageTags=python3)"
   ]
  },
  {
   "cell_type": "markdown",
   "id": "c458f938",
   "metadata": {},
   "source": [
    "**1.** `collections.Counter`"
   ]
  },
  {
   "cell_type": "markdown",
   "id": "03981b83",
   "metadata": {},
   "source": [
    "- [x] 1. count the all elements in `nums` and their frequencies;\n",
    "- [x] 2. select the top 1 frequently appeared element and its frequency as a tuple;\n",
    "select the top 1 frequently appeared element;<br>\n",
    "select the top 1 frequently appeared element's frequency;\n",
    "- [x] 3. if the top 1 element's frequency is larger than `[n/2]`, return the element;"
   ]
  },
  {
   "cell_type": "code",
   "execution_count": 64,
   "id": "017b90ed",
   "metadata": {},
   "outputs": [
    {
     "name": "stdout",
     "output_type": "stream",
     "text": [
      "1. Counter({2: 4, 1: 3})\n",
      "2. [(2, 4)] (2, 4) 2 4\n",
      "3. 3\n"
     ]
    }
   ],
   "source": [
    "from collections import Counter\n",
    "\n",
    "class Solution:\n",
    "    def majorityElement(self, nums: list) -> int:\n",
    "        print('1.', Counter(nums))                               # 1\n",
    "        print('2.', Counter(nums).most_common(1), Counter(nums).most_common(1)[0], Counter(nums).most_common(1)[0][0], Counter(nums).most_common(1)[0][1])         \n",
    "        if Counter(nums).most_common(1)[0][1] >= len(nums)//2:   # 3\n",
    "            print('3.', len(nums)//2)\n",
    "            return Counter(nums).most_common(1)[0][0]\n",
    "        \n",
    "if __name__ == '__main__':\n",
    "    nums = [2,2,1,1,1,2,2]\n",
    "    sol = Solution()\n",
    "    output = sol.majorityElement(nums=nums)"
   ]
  },
  {
   "cell_type": "code",
   "execution_count": 65,
   "id": "5025ef9e",
   "metadata": {},
   "outputs": [
    {
     "data": {
      "text/plain": [
       "2"
      ]
     },
     "execution_count": 65,
     "metadata": {},
     "output_type": "execute_result"
    }
   ],
   "source": [
    "output"
   ]
  },
  {
   "cell_type": "markdown",
   "id": "b8c2d952",
   "metadata": {},
   "source": [
    "**2.** `sorted(iterable, key=function)`"
   ]
  },
  {
   "cell_type": "markdown",
   "id": "49b87e37",
   "metadata": {},
   "source": [
    "**2.1**"
   ]
  },
  {
   "cell_type": "markdown",
   "id": "99d9faab",
   "metadata": {},
   "source": [
    "- [x] 1. iterate over all elements in `nums` and summarize as a dict `d`;\n",
    "- [x] 2. sort the `key` (element) and `value` (frequency) in `d` according to `value` in reverse order;\n",
    "- [x] 3. select top 1 element and if its frequency is larger than `[n/2]`, return this element;"
   ]
  },
  {
   "cell_type": "code",
   "execution_count": 66,
   "id": "cbab6147",
   "metadata": {},
   "outputs": [
    {
     "name": "stdout",
     "output_type": "stream",
     "text": [
      "1. {-1: 1, 2: 3, 3: 2}\n",
      "2. {2: 3, 3: 2, -1: 1}\n",
      "3. 2 3\n"
     ]
    }
   ],
   "source": [
    "class Solution:\n",
    "    def majorityElement(self, nums: list) -> int:\n",
    "        d = {}                                                                  # 1\n",
    "        for num in nums:\n",
    "            if num not in d:\n",
    "                d[num] = 1\n",
    "            else:\n",
    "                d[num] += 1\n",
    "        print('1.', d)\n",
    "        d = dict(sorted(d.items(), key=lambda items: items[1], reverse=True))   # 2\n",
    "        print('2.', d)\n",
    "        top1 = list(d.keys())[0]                                                # 3\n",
    "        print('3.', top1, d.get(top1))\n",
    "        if d.get(top1) >= len(nums)//2:\n",
    "            return top1\n",
    "\n",
    "if __name__ == '__main__':\n",
    "    nums = [-1,2,2,2,3,3]\n",
    "    sol = Solution()\n",
    "    output = sol.majorityElement(nums=nums)"
   ]
  },
  {
   "cell_type": "code",
   "execution_count": 67,
   "id": "e947cc0d",
   "metadata": {},
   "outputs": [
    {
     "data": {
      "text/plain": [
       "2"
      ]
     },
     "execution_count": 67,
     "metadata": {},
     "output_type": "execute_result"
    }
   ],
   "source": [
    "output"
   ]
  },
  {
   "cell_type": "markdown",
   "id": "fc90c127",
   "metadata": {},
   "source": [
    "**2.2**"
   ]
  },
  {
   "cell_type": "markdown",
   "id": "14b19df4",
   "metadata": {},
   "source": [
    "- [x] 1. sort all elements in `nums` with default ascending order;\n",
    "- [x] 2. determine the median index `len(nums)//2`;\n",
    "- [x] 3. select the median index of `nums`;"
   ]
  },
  {
   "cell_type": "code",
   "execution_count": 68,
   "id": "7d0b14e1",
   "metadata": {},
   "outputs": [
    {
     "name": "stdout",
     "output_type": "stream",
     "text": [
      "1. [1, 1, 1, 2, 2, 2, 2]\n",
      "2. 3\n",
      "3. 2\n"
     ]
    }
   ],
   "source": [
    "class Solution:\n",
    "    def majorityElement(self, nums: list) -> int:\n",
    "        print('1.', sorted(nums))      \n",
    "        print('2.', len(nums)//2)\n",
    "        print('3.', sorted(nums)[len(nums)//2])\n",
    "        return sorted(nums)[len(nums)//2]\n",
    "        \n",
    "if __name__ == '__main__':\n",
    "    nums = [2,2,1,1,1,2,2]\n",
    "    sol = Solution()\n",
    "    output = sol.majorityElement(nums=nums)"
   ]
  },
  {
   "cell_type": "code",
   "execution_count": 69,
   "id": "b8e3b099",
   "metadata": {},
   "outputs": [
    {
     "data": {
      "text/plain": [
       "2"
      ]
     },
     "execution_count": 69,
     "metadata": {},
     "output_type": "execute_result"
    }
   ],
   "source": [
    "output"
   ]
  },
  {
   "cell_type": "markdown",
   "id": "0273fd92",
   "metadata": {},
   "source": [
    "**3.** `max(iterable, key=function)`"
   ]
  },
  {
   "cell_type": "markdown",
   "id": "1e9481a0",
   "metadata": {},
   "source": [
    "**3.1**"
   ]
  },
  {
   "cell_type": "markdown",
   "id": "e2c80ad9",
   "metadata": {},
   "source": [
    "- [x] 1. iterate over all elements in `nums` and summarize as a dict `d`;\n",
    "- [x] 2. find the element which has highest frequency via `max` build-in function, if its frequency is larger than `[n/2]`, return this element;"
   ]
  },
  {
   "cell_type": "code",
   "execution_count": 70,
   "id": "109486db",
   "metadata": {},
   "outputs": [
    {
     "name": "stdout",
     "output_type": "stream",
     "text": [
      "1. {-1: 1, 2: 3, 3: 2}\n",
      "2. 2 3\n"
     ]
    }
   ],
   "source": [
    "class Solution:\n",
    "    def majorityElement(self, nums: list):\n",
    "        d = {}\n",
    "        for num in nums:\n",
    "            if num not in d:\n",
    "                d[num] = 1\n",
    "            else:\n",
    "                d[num] += 1\n",
    "        print('1.', d)\n",
    "        print('2.', max(d, key=d.get), d[max(d, key=d.get)])\n",
    "        if d[max(d, key=d.get)] >= len(nums)//2:\n",
    "            return max(d, key=d.get)\n",
    "\n",
    "if __name__ == '__main__':\n",
    "    nums = [-1,2,2,2,3,3]\n",
    "    sol = Solution()\n",
    "    output = sol.majorityElement(nums=nums)"
   ]
  },
  {
   "cell_type": "code",
   "execution_count": 71,
   "id": "cfd94903",
   "metadata": {},
   "outputs": [
    {
     "data": {
      "text/plain": [
       "2"
      ]
     },
     "execution_count": 71,
     "metadata": {},
     "output_type": "execute_result"
    }
   ],
   "source": [
    "output"
   ]
  },
  {
   "cell_type": "markdown",
   "id": "78a4bdd2",
   "metadata": {},
   "source": [
    "**3.2**"
   ]
  },
  {
   "cell_type": "markdown",
   "id": "331be5be",
   "metadata": {},
   "source": [
    "- [x] 1. get a set of unique elements in `nums`;\n",
    "- [x] 2. sort the set in 1. according to `count` build-in function and find the max element via `max` build-in function;\n",
    "- [x] 3. count the frequency of maximum element in 2., if it is higher than `[n/2]`, return this element;"
   ]
  },
  {
   "cell_type": "code",
   "execution_count": 72,
   "id": "c426277d",
   "metadata": {},
   "outputs": [
    {
     "name": "stdout",
     "output_type": "stream",
     "text": [
      "1. {1, 2, -1}\n",
      "2. 1 <class 'int'>\n",
      "3. 4 3\n"
     ]
    }
   ],
   "source": [
    "class Solution:\n",
    "    def majorityElement(self, nums: list):\n",
    "        print('1.', set(nums))\n",
    "        print('2.', max(set(nums), key=nums.count), type(max(set(nums), key=nums.count)))\n",
    "        print('3.', nums.count(max(set(nums), key=nums.count)), len(nums)//2)\n",
    "        if nums.count(max(set(nums), key=nums.count)) >= len(nums)//2:\n",
    "            return max(set(nums), key=nums.count)\n",
    "\n",
    "if __name__ == '__main__':\n",
    "    nums = [-1,1,1,1,2,1]\n",
    "    sol = Solution()\n",
    "    output = sol.majorityElement(nums=nums)"
   ]
  },
  {
   "cell_type": "code",
   "execution_count": 73,
   "id": "81729731",
   "metadata": {},
   "outputs": [
    {
     "data": {
      "text/plain": [
       "1"
      ]
     },
     "execution_count": 73,
     "metadata": {},
     "output_type": "execute_result"
    }
   ],
   "source": [
    "output"
   ]
  },
  {
   "cell_type": "markdown",
   "id": "3d8222ce",
   "metadata": {},
   "source": [
    "**4.** `numpy.median`"
   ]
  },
  {
   "cell_type": "code",
   "execution_count": 74,
   "id": "5510a014",
   "metadata": {},
   "outputs": [],
   "source": [
    "import numpy as np\n",
    "\n",
    "class Solution:\n",
    "    def majorityElement(self, nums: list):\n",
    "        return int(np.median(nums))\n",
    "\n",
    "if __name__ == '__main__':\n",
    "    nums = [2,2,1,1,1,2,2]\n",
    "    sol = Solution()\n",
    "    output = sol.majorityElement(nums=nums)"
   ]
  },
  {
   "cell_type": "code",
   "execution_count": 75,
   "id": "467d6b8b",
   "metadata": {},
   "outputs": [
    {
     "data": {
      "text/plain": [
       "2"
      ]
     },
     "execution_count": 75,
     "metadata": {},
     "output_type": "execute_result"
    }
   ],
   "source": [
    "output"
   ]
  },
  {
   "cell_type": "markdown",
   "id": "7d0be94e",
   "metadata": {},
   "source": [
    "**5.** `Boyer-Moore's Voting Algorithm`"
   ]
  },
  {
   "cell_type": "markdown",
   "id": "7374f2bc",
   "metadata": {},
   "source": [
    "- [x] 1. initialize `candidate` as `None` and its count `count` as `0`, see `candidate` as the element which will earn most `votes` (highest frequency);\n",
    "- [x] 2. iterate over all elements in `nums`:<br>\n",
    "2.1 if `count==0`, apply `num` to `candidate`;<br>\n",
    "2.2 if `candidate==num`, increase count by `1`; else, decrease count by `1`;"
   ]
  },
  {
   "cell_type": "code",
   "execution_count": 76,
   "id": "a290f84b",
   "metadata": {},
   "outputs": [],
   "source": [
    "class Solution:\n",
    "    def majorityElement(self, nums: list):\n",
    "        count, candidate = 0, None                         # 1\n",
    "        for num in nums:                                   # 2\n",
    "            if count == 0:                                 # 2.1\n",
    "                candidate = num\n",
    "            count += (1 if candidate == num else -1)       # 2.2\n",
    "        \n",
    "        return candidate\n",
    "\n",
    "if __name__ == '__main__':\n",
    "    nums = [2,2,1,1,1,2,2]\n",
    "    sol = Solution()\n",
    "    output = sol.majorityElement(nums=nums)"
   ]
  },
  {
   "cell_type": "code",
   "execution_count": 77,
   "id": "34d2297f",
   "metadata": {},
   "outputs": [
    {
     "data": {
      "text/plain": [
       "2"
      ]
     },
     "execution_count": 77,
     "metadata": {},
     "output_type": "execute_result"
    }
   ],
   "source": [
    "output"
   ]
  },
  {
   "cell_type": "markdown",
   "id": "fbc788e8",
   "metadata": {},
   "source": [
    "# Extension"
   ]
  },
  {
   "cell_type": "markdown",
   "id": "dbfa05c8",
   "metadata": {},
   "source": [
    "reference: [number which appears more than n/3 times in an array](https://stackoverflow.com/questions/14955634/number-which-appears-more-than-n-3-times-in-an-array)"
   ]
  },
  {
   "cell_type": "markdown",
   "id": "87ba1772",
   "metadata": {},
   "source": [
    "find an element which occurs more than `n/3` times in an array."
   ]
  },
  {
   "cell_type": "markdown",
   "id": "3aa825d6",
   "metadata": {},
   "source": [
    "- [x] 1. start with 2 empty candidate slots and two counters set to `0`.\n",
    "- [x] 2. for each item:\n",
    "- if it is equal to either candidate, increment the corresponding count\n",
    "- else if there is an empty slot (i.e. a slot with count `0`), put it in that slot and set the count to `1`\n",
    "- else reduce both counters by `1`\n",
    "- [x] 3. make a second pass over the array to check whether the candidates really do have the required count. If there is a value that occurs more than `n/3` times then it will be in a slot, but you don't know which one it is.<br>\n",
    "If this modified version of the question guaranteed that there were two values with more than n/3 elements (in general, k-1 values with more than n/k) then we wouldn't need the second pass. But when the original question has k=2 and 1 guaranteed majority there's no way to know whether we \"should\" generalize it as guaranteeing 1 such element or guaranteeing k-1. The stronger the guarantee, the easier the problem."
   ]
  },
  {
   "cell_type": "code",
   "execution_count": 78,
   "id": "49a95a16",
   "metadata": {},
   "outputs": [
    {
     "name": "stdout",
     "output_type": "stream",
     "text": [
      "num:3; [c1, c2, cnt1, cnt2]: [3, None, 1, 0]\n",
      "num:1; [c1, c2, cnt1, cnt2]: [3, 1, 1, 1]\n",
      "num:4; [c1, c2, cnt1, cnt2]: [3, 1, 0, 0]\n",
      "num:2; [c1, c2, cnt1, cnt2]: [2, 1, 1, 0]\n",
      "num:5; [c1, c2, cnt1, cnt2]: [2, 5, 1, 1]\n",
      "num:5; [c1, c2, cnt1, cnt2]: [2, 5, 1, 2]\n",
      "num:1; [c1, c2, cnt1, cnt2]: [2, 5, 0, 1]\n",
      "num:5; [c1, c2, cnt1, cnt2]: [5, 5, 1, 1]\n",
      "num:2; [c1, c2, cnt1, cnt2]: [5, 5, 0, 0]\n",
      "num:0; [c1, c2, cnt1, cnt2]: [0, 5, 1, 0]\n",
      "\n",
      "1. [c1, c2, cnt1, cnt2] [0, 5, 1, 0]\n",
      "\n",
      "2. [c1, c2, cnt1, cnt2] [0, 5, 1, 3]\n"
     ]
    }
   ],
   "source": [
    "class Solution:\n",
    "    def majorityElement(self, nums: list):\n",
    "        if nums is None:\n",
    "            return None\n",
    "        if len(nums) == 0:\n",
    "            return None\n",
    "\n",
    "        candidate1, candidate2, count1, count2 = None, None, 0, 0           # 1\n",
    "        for i, num in enumerate(nums):                                      # 2\n",
    "            if count1 == 0:\n",
    "                candidate1 = num\n",
    "                count1 = 1\n",
    "            elif num == candidate1:\n",
    "                count1 += 1\n",
    "            elif count2 == 0:\n",
    "                candidate2 = num\n",
    "                count2 = 1\n",
    "            elif num == candidate2:\n",
    "                count2 += 1\n",
    "            else:\n",
    "                count1 -= 1\n",
    "                count2 -= 1\n",
    "            print(f\"num:{num}; [c1, c2, cnt1, cnt2]: [{candidate1}, {candidate2}, {count1}, {count2}]\")\n",
    "        print(f\"\\n1. [c1, c2, cnt1, cnt2] [{candidate1}, {candidate2}, {count1}, {count2}]\")\n",
    "            \n",
    "        count1, count2 = 0, 0                                               # 3\n",
    "        for num in nums:\n",
    "            if num == candidate1:\n",
    "                count1 += 1\n",
    "            elif num == candidate2:\n",
    "                count2 += 1\n",
    "        print(f\"\\n2. [c1, c2, cnt1, cnt2] [{candidate1}, {candidate2}, {count1}, {count2}]\")\n",
    "        if count1 >= len(nums)//3:\n",
    "            return candidate1\n",
    "        if count2 >= len(nums)//3:\n",
    "            return candidate2\n",
    "\n",
    "if __name__ == '__main__':\n",
    "    nums = [3, 1, 4, 2, 5, 5, 1, 5, 2, 0]\n",
    "    sol = Solution()\n",
    "    output = sol.majorityElement(nums=nums)"
   ]
  },
  {
   "cell_type": "code",
   "execution_count": 79,
   "id": "d4f7bbad",
   "metadata": {},
   "outputs": [
    {
     "data": {
      "text/plain": [
       "5"
      ]
     },
     "execution_count": 79,
     "metadata": {},
     "output_type": "execute_result"
    }
   ],
   "source": [
    "output"
   ]
  }
 ],
 "metadata": {
  "kernelspec": {
   "display_name": "Python 3 (ipykernel)",
   "language": "python",
   "name": "python3"
  },
  "language_info": {
   "codemirror_mode": {
    "name": "ipython",
    "version": 3
   },
   "file_extension": ".py",
   "mimetype": "text/x-python",
   "name": "python",
   "nbconvert_exporter": "python",
   "pygments_lexer": "ipython3",
   "version": "3.9.7"
  },
  "toc": {
   "base_numbering": 1,
   "nav_menu": {},
   "number_sections": true,
   "sideBar": true,
   "skip_h1_title": false,
   "title_cell": "Table of Contents",
   "title_sidebar": "Contents",
   "toc_cell": false,
   "toc_position": {},
   "toc_section_display": true,
   "toc_window_display": false
  }
 },
 "nbformat": 4,
 "nbformat_minor": 5
}
