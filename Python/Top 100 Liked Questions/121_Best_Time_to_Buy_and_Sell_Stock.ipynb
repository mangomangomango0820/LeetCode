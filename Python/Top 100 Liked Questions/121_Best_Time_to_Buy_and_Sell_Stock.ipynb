{
 "cells": [
  {
   "cell_type": "markdown",
   "id": "db820cb7",
   "metadata": {},
   "source": [
    "LeetCode | Top 100 | 121. Best Time to Buy and Sell Stock"
   ]
  },
  {
   "cell_type": "markdown",
   "id": "b6ca2a53",
   "metadata": {},
   "source": [
    "# Question"
   ]
  },
  {
   "cell_type": "markdown",
   "id": "27ebd003",
   "metadata": {},
   "source": [
    "[121. Best Time to Buy and Sell Stock](https://leetcode.com/problems/best-time-to-buy-and-sell-stock/description/?envType=study-plan-v2&envId=top-100-liked)"
   ]
  },
  {
   "cell_type": "markdown",
   "id": "150e002c",
   "metadata": {},
   "source": [
    "You are given an array prices where prices[i] is the price of a given stock on the ith day.\n",
    "\n",
    "You want to maximize your profit by choosing a single day to buy one stock and choosing a different day in the future to sell that stock.\n",
    "\n",
    "Return the maximum profit you can achieve from this transaction. If you cannot achieve any profit, return 0.\n",
    "\n",
    " \n",
    "\n",
    "**Example 1:**\n",
    "\n",
    "```\n",
    "Input: prices = [7,1,5,3,6,4]\n",
    "Output: 5\n",
    "Explanation: Buy on day 2 (price = 1) and sell on day 5 (price = 6), profit = 6-1 = 5.\n",
    "Note that buying on day 2 and selling on day 1 is not allowed because you must buy before you sell.\n",
    "```\n",
    "\n",
    "**Example 2:**\n",
    "```\n",
    "Input: prices = [7,6,4,3,1]\n",
    "Output: 0\n",
    "Explanation: In this case, no transactions are done and the max profit = 0.\n",
    "```\n",
    "<br>\n",
    "\n",
    "**Constraints:**\n",
    "- `1 <= prices.length <= 10^5`\n",
    "- `0 <= prices[i] <= 10^4`"
   ]
  },
  {
   "cell_type": "markdown",
   "id": "0cbcfff2",
   "metadata": {},
   "source": [
    "# Knowledge Points"
   ]
  },
  {
   "cell_type": "markdown",
   "id": "8c4b26b0",
   "metadata": {},
   "source": [
    "## Greedy Algorithms"
   ]
  },
  {
   "cell_type": "markdown",
   "id": "bbc75019",
   "metadata": {},
   "source": [
    "**reference:**<br>\n",
    "[Greedy Algorithms](https://www.cs.upc.edu/~mjserna/docencia/grauA/P21/GrauA4-greedy-h.pdf)<br>\n",
    "[Greedy Algorithms Using Python with Coding Examples](https://medium.com/@siladityaghosh/greedy-algorithms-with-python-0f61d2a0f9ce)"
   ]
  },
  {
   "cell_type": "markdown",
   "id": "0287714e",
   "metadata": {},
   "source": [
    "### Concept"
   ]
  },
  {
   "cell_type": "markdown",
   "id": "59a523a3",
   "metadata": {},
   "source": [
    "`Greedy algorithms` are a class of algorithms that make locally optimal choices at each stage with the hope of finding a global optimum. In other words, at each step, a greedy algorithm selects the best available option without considering the consequences of that choice on future steps. Greedy algorithms are often intuitive, easy to implement, and can provide efficient solutions for certain problems, although they may not always guarantee the globally optimal solution."
   ]
  },
  {
   "cell_type": "markdown",
   "id": "9c225cc3",
   "metadata": {},
   "source": [
    "**Examples of Problems Solved by Greedy Algorithms:**\n",
    "\n",
    "- `Coin Change (Making Change)`\n",
    "\n",
    "  + Problem<br>\n",
    "Minimize the number of coins needed to make change for a given amount.\n",
    "  + Greedy Approach<br>\n",
    "Always choose the largest coin denomination that does not exceed the remaining amount.\n",
    "\n",
    "- `Fractional Knapsack`\n",
    "  + Problem<br>\n",
    "Fill a knapsack with items of varying weights and values to maximize the total value.\n",
    "  + Greedy Approach<br>\n",
    "Sort items by value-to-weight ratio and add items in descending order of this ratio until the knapsack is full.\n",
    "\n",
    "- `Huffman Coding (Data Compression)`\n",
    "  + Problem<br>\n",
    "Construct a binary tree to represent characters, with shorter codes for frequently used characters.\n",
    "  + Greedy Approach<br>\n",
    "Build the tree by repeatedly merging the two nodes with the lowest frequencies.\n",
    "\n",
    "- `Activity Selection`\n",
    "  + Problem<br>\n",
    "Select the maximum number of non-overlapping activities from a set with start and finish times.\n",
    "  + Greedy Approach<br>\n",
    "Sort activities by finish time and select non-overlapping activities, choosing the one with the earliest finish time first.\n",
    "\n",
    "- `Prim’s Algorithm (Minimum Spanning Tree)`\n",
    "  + Problem<br>\n",
    "Find the minimum spanning tree of a connected, undirected graph.\n",
    "  + Greedy Approach<br>\n",
    "Start with an arbitrary vertex and add the shortest edge connecting any vertex in the tree to a vertex outside the tree until all vertices are included.\n",
    "\n",
    "- `Dijkstra’s Algorithm (Shortest Path)`\n",
    "  + Problem<br>\n",
    "Find the shortest path from a source vertex to all other vertices in a weighted graph.\n",
    "  + Greedy Approach<br>\n",
    "Iteratively choose the vertex with the smallest known distance and update the distances of its neighbors.\n",
    "\n",
    "- `Interval Scheduling`\n",
    "  + Problem<br>\n",
    "Schedule tasks with start and end times to maximize the number of non-overlapping intervals.\n",
    "  + Greedy Approach<br>\n",
    "Sort tasks by end time and select non-overlapping intervals, choosing the one with the earliest end time first.\n",
    "\n",
    "- `Kruskal’s Algorithm (Minimum Spanning Tree)`\n",
    "  + Problem<br>\n",
    "Find the minimum spanning tree of a connected, undirected graph using edge weights.\n",
    "  + Greedy Approach<br>\n",
    "Sort edges by weight and add edges to the tree, avoiding cycles, until all vertices are connected.\n",
    "\n",
    "- `Set Cover Problem`\n",
    "  + Problem<br>\n",
    "Find the minimum number of sets that cover all elements in a universal set.\n",
    "  + Greedy Approach<br>\n",
    "Repeatedly choose the set that covers the maximum number of uncovered elements.\n",
    "\n",
    "- `Change Making Problem`\n",
    "  + Problem<br>\n",
    "Make change using the fewest number of coins.\n",
    "  + Greedy Approach<br>\n",
    "Always choose the largest coin denomination that does not exceed the remaining amount.\n",
    "\n",
    "These examples illustrate the application of greedy algorithms in solving optimization problems by making locally optimal choices at each step. While greedy algorithms are powerful and efficient for certain problems, it’s important to note that they may not always provide the globally optimal solution in every scenario."
   ]
  },
  {
   "cell_type": "markdown",
   "id": "7ad5da89",
   "metadata": {},
   "source": [
    "## Dynamic Programming "
   ]
  },
  {
   "cell_type": "markdown",
   "id": "cdaffa10",
   "metadata": {},
   "source": [
    "**reference:**<br>\n",
    "[Dynamic Programming (DP) Tutorial with Problems](https://www.geeksforgeeks.org/introduction-to-dynamic-programming-data-structures-and-algorithm-tutorials/)<br>\n",
    "[动态规划算法详解](https://www.zhihu.com/tardis/zm/art/146611382?source_id=1003)"
   ]
  },
  {
   "cell_type": "markdown",
   "id": "55d6a396",
   "metadata": {},
   "source": [
    "### Concept"
   ]
  },
  {
   "cell_type": "markdown",
   "id": "212900a2",
   "metadata": {},
   "source": [
    "`Dynamic Programming` (`DP`) is defined as a technique that solves some particular type of problems in Polynomial Time. Dynamic Programming solutions are faster than the exponential brute method and can be easily proved their correctness."
   ]
  },
  {
   "cell_type": "markdown",
   "id": "3ad2cc4e",
   "metadata": {},
   "source": [
    "`Dynamic Programming` is mainly an optimization over plain recursion. Wherever we see a recursive solution that has repeated calls for the same inputs, we can optimize it using Dynamic Programming. The idea is to simply store the results of subproblems so that we do not have to re-compute them when needed later. This simple optimization reduces time complexities from exponential to polynomial."
   ]
  },
  {
   "cell_type": "markdown",
   "id": "06273e34",
   "metadata": {},
   "source": [
    "`Dynamic programming` works on following principles: \n",
    "\n",
    "- Characterize structure of optimal solution, i.e. build a mathematical model of the solution.\n",
    "- Recursively define the value of the optimal solution. \n",
    "- Using bottom-up approach, compute the value of the optimal solution for each possible subproblems.\n",
    "- Construct optimal solution for the original problem using information computed in the previous step."
   ]
  },
  {
   "cell_type": "markdown",
   "id": "b9f41f4d",
   "metadata": {},
   "source": [
    "### Applications"
   ]
  },
  {
   "cell_type": "markdown",
   "id": "c1ff7f71",
   "metadata": {},
   "source": [
    "`Dynamic programming` is used to solve optimization problems. It is used to solve many real-life problems such as,\n",
    "- Make a change problem<br>\n",
    "- Knapsack problem<br>\n",
    "- Optimal binary search tree"
   ]
  },
  {
   "cell_type": "markdown",
   "id": "dc118516",
   "metadata": {},
   "source": [
    "### Approach"
   ]
  },
  {
   "cell_type": "markdown",
   "id": "34f09807",
   "metadata": {},
   "source": [
    "To dynamically solve a problem, we need to check two necessary conditions: \n",
    "\n",
    "- Overlapping Subproblems<br>\n",
    "When the solutions to the same subproblems are needed repetitively for solving the actual problem. The problem is said to have overlapping subproblems property.\n",
    "\n",
    "<img src=\"https://media.geeksforgeeks.org/wp-content/uploads/20220919185437/nthfibonacciseriesdynamicprogramming-300x200.png\"  alt=\"ImageFile\" style=\"width: 300px;float: middle;\" align=\"middle\"/>\n",
    "\n",
    "- Optimal Substructure Property<br>\n",
    "If the optimal solution of the given problem can be obtained by using optimal solutions of its subproblems then the problem is said to have Optimal Substructure Property.\n"
   ]
  },
  {
   "cell_type": "markdown",
   "id": "32dcac32",
   "metadata": {},
   "source": [
    "**Steps to solve a Dynamic programming problem**\n",
    "1. Identify if it is a Dynamic programming problem.\n",
    "2. Decide a state expression with the Least parameters.\n",
    "3. Formulate state and transition relationships.\n",
    "4. Do tabulation (or memorization)."
   ]
  },
  {
   "cell_type": "markdown",
   "id": "5a3ad228",
   "metadata": {},
   "source": [
    "# Solutions"
   ]
  },
  {
   "cell_type": "markdown",
   "id": "1b2d7882",
   "metadata": {},
   "source": [
    "## Greedy Algorithm"
   ]
  },
  {
   "cell_type": "markdown",
   "id": "0b2cfd8f",
   "metadata": {},
   "source": [
    "### Example"
   ]
  },
  {
   "cell_type": "markdown",
   "id": "fdb32068",
   "metadata": {},
   "source": [
    "**Example 1:**"
   ]
  },
  {
   "cell_type": "code",
   "execution_count": 19,
   "id": "8ff5abe1",
   "metadata": {},
   "outputs": [
    {
     "data": {
      "text/plain": [
       "5"
      ]
     },
     "execution_count": 19,
     "metadata": {},
     "output_type": "execute_result"
    }
   ],
   "source": [
    "class Solution:\n",
    "    def maxProfit(self, prices) -> int:\n",
    "        minprice = int(1e9)                                 # initialize minprice and maxprofit\n",
    "        maxprofit = 0\n",
    "        for price in prices:                                # for each price in prices\n",
    "            minprice = min(minprice, price)                 # find the lower price as min price\n",
    "            maxprofit = max(price - minprice, maxprofit)    # find the higher profit as max profit\n",
    "\n",
    "        return maxprofit\n",
    "\n",
    "prices = [7, 1, 5, 3, 6, 4]\n",
    "\n",
    "sol = Solution()\n",
    "maxprofit = sol.maxProfit(prices)\n",
    "maxprofit"
   ]
  },
  {
   "cell_type": "markdown",
   "id": "75e04c83",
   "metadata": {},
   "source": [
    "**Example 2:**"
   ]
  },
  {
   "cell_type": "code",
   "execution_count": 20,
   "id": "13ffc640",
   "metadata": {},
   "outputs": [
    {
     "name": "stdout",
     "output_type": "stream",
     "text": [
      "5\n"
     ]
    }
   ],
   "source": [
    "class Solution:\n",
    "    def maxProfit(self, prices) -> int:\n",
    "        minprice = prices[0]                                # initialize minprice and maxprofit\n",
    "        maxprofit = 0\n",
    "\n",
    "        for price in prices[1:]:                            # for each price in prices[1:]\n",
    "            if price < minprice:\n",
    "                minprice = price                            # if price < minprice, update minprice with price\n",
    "            if price-minprice>maxprofit:                    \n",
    "                maxprofit = price-minprice                  # if price-minprice>maxprofit, update maxprofit with price-minprice\n",
    "\n",
    "        return maxprofit\n",
    "\n",
    "if __name__ == \"__main__\":\n",
    "    prices = [7,1,5,3,6,4]\n",
    "    sol = Solution()\n",
    "    maxprofit = sol.maxProfit(prices)\n",
    "    print(maxprofit)"
   ]
  },
  {
   "cell_type": "markdown",
   "id": "af2ac416",
   "metadata": {},
   "source": [
    "## Dynamic Programming"
   ]
  },
  {
   "cell_type": "markdown",
   "id": "c05c0e21",
   "metadata": {},
   "source": [
    "### Example"
   ]
  },
  {
   "cell_type": "markdown",
   "id": "7085183f",
   "metadata": {},
   "source": [
    "**Example 1:**"
   ]
  },
  {
   "cell_type": "markdown",
   "id": "3abbcdf6",
   "metadata": {},
   "source": [
    "- until the end of the trade, there are 3 conditions:\n",
    "  + **dp0**<br>\n",
    "no buy in\n",
    "  + **dp1**<br>\n",
    "buy in but no sell out\n",
    "  + **dp2**<br>\n",
    "buy in and then sell out\n",
    "<br><br>\n",
    "\n",
    "- initialize 3 conditions:\n",
    "  + **dp0** = 0\n",
    "  + **dp1** = -price[0]\n",
    "  + **dp2** = float(\"=inf\")\n",
    "<br><br>\n",
    "\n",
    "- transfer from initial condition to current condition\n",
    "  + **dp0** = 0<br>\n",
    "being 0 throughout the trade\n",
    "  + **dp1** = max(dp1, dp0-prices[i])<br>\n",
    "yesterday is dp0, today buy in with prices[i] and then become dp1;<br>\n",
    "yesterday is dp1, today is dp1, too;\n",
    "  + **dp2** = max(dp2, dp1+price[i])<br>\n",
    "yesterday is dp1, today sell out with prices[i] and then become dp2;<br>\n",
    "yesterday is dp2, today is dp2, too;\n",
    "<br><br>\n",
    "\n",
    "- confirm the final condition<br>\n",
    "return the maximum between dp0 and dp2"
   ]
  },
  {
   "cell_type": "code",
   "execution_count": 21,
   "id": "480bf291",
   "metadata": {},
   "outputs": [
    {
     "data": {
      "text/plain": [
       "5"
      ]
     },
     "execution_count": 21,
     "metadata": {},
     "output_type": "execute_result"
    }
   ],
   "source": [
    "class Solution:\n",
    "    def maxProfit(self, prices) -> int:\n",
    "        dp0 = 0                                 # initialize 3 conditions: dp0\n",
    "        dp1 = -prices[0]                        #                          dp1\n",
    "        dp2 = float('-inf')                     #                          dp2\n",
    "\n",
    "        for i in range(1, len(prices)):\n",
    "            dp1 = max(dp1, dp0 - prices[i])     # 1. yesterday is dp0; today buy in and become dp1, equally with dp0-prices[i]\n",
    "                                                # 2. yesterday is dp1; today is dp1, too\n",
    "            dp2 = max(dp2, dp1 + prices[i])     # 1. yesterday is dp1；today sell out and become dp2, equally with dp1+prices[i]\n",
    "                                                # 2. yesterday is dp2; today is dp2, too\n",
    "                \n",
    "        return max(dp0, dp2)\n",
    "\n",
    "prices = [7, 1, 5, 3, 6, 4]\n",
    "\n",
    "sol = Solution()\n",
    "maxprofit = sol.maxProfit(prices)\n",
    "maxprofit"
   ]
  },
  {
   "cell_type": "markdown",
   "id": "030b9be3",
   "metadata": {},
   "source": [
    "## Two Pointer"
   ]
  },
  {
   "cell_type": "markdown",
   "id": "e2ef4054",
   "metadata": {},
   "source": [
    "### Example"
   ]
  },
  {
   "cell_type": "markdown",
   "id": "c8a16677",
   "metadata": {},
   "source": [
    "**Example 1:**"
   ]
  },
  {
   "cell_type": "markdown",
   "id": "19d636f3",
   "metadata": {},
   "source": [
    "1. initialize two pointers, left points to prices[0] and right points to prices[-1]\n",
    "2. move right pointer one by one:\n",
    "+ if right points to a larger number than that of left pointer, update max profit by max(right-left, maxprofit), we get profits\n",
    "+ if right points to a smaller number than that of left pointer, update left pointer with the location of right pionter, no profits because the price is going down"
   ]
  },
  {
   "cell_type": "code",
   "execution_count": 22,
   "id": "931cd0c4",
   "metadata": {},
   "outputs": [
    {
     "data": {
      "text/plain": [
       "5"
      ]
     },
     "execution_count": 22,
     "metadata": {},
     "output_type": "execute_result"
    }
   ],
   "source": [
    "class Solution:\n",
    "    def maxProfit(self, prices) -> int:\n",
    "        left = prices[0]                                # initialize left and right pointer with prices[0] & prices[-1]\n",
    "        right = prices[-1]\n",
    "        maxprofit = 0\n",
    "\n",
    "        for right in prices:\n",
    "            if right <= left:                           # if the final price smaller than the first price\n",
    "                left = right                            # move left pointer to right\n",
    "            else:\n",
    "                maxprofit = max(right-left, maxprofit)  # find the maximum difference in [diff1, diff2, ...]\n",
    "\n",
    "        return maxprofit\n",
    "\n",
    "prices = [7,1,5,3,6,4]\n",
    "\n",
    "sol = Solution()\n",
    "maxprofit = sol.maxProfit(prices)\n",
    "maxprofit"
   ]
  }
 ],
 "metadata": {
  "kernelspec": {
   "display_name": "Python 3 (ipykernel)",
   "language": "python",
   "name": "python3"
  },
  "language_info": {
   "codemirror_mode": {
    "name": "ipython",
    "version": 3
   },
   "file_extension": ".py",
   "mimetype": "text/x-python",
   "name": "python",
   "nbconvert_exporter": "python",
   "pygments_lexer": "ipython3",
   "version": "3.9.7"
  },
  "toc": {
   "base_numbering": 1,
   "nav_menu": {},
   "number_sections": true,
   "sideBar": true,
   "skip_h1_title": false,
   "title_cell": "Table of Contents",
   "title_sidebar": "Contents",
   "toc_cell": false,
   "toc_position": {},
   "toc_section_display": true,
   "toc_window_display": false
  }
 },
 "nbformat": 4,
 "nbformat_minor": 5
}
