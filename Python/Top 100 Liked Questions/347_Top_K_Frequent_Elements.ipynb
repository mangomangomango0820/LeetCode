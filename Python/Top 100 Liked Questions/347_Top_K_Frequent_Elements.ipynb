{
 "cells": [
  {
   "cell_type": "markdown",
   "id": "e7df2adf",
   "metadata": {},
   "source": [
    "LeetCode | Top 100 | 347. Top K Frequent Elements"
   ]
  },
  {
   "cell_type": "markdown",
   "id": "9c371aa8",
   "metadata": {},
   "source": [
    "# Question"
   ]
  },
  {
   "cell_type": "markdown",
   "id": "4fd72e3b",
   "metadata": {},
   "source": [
    "[347. Top K Frequent Elements](https://leetcode.com/problems/top-k-frequent-elements/description/)"
   ]
  },
  {
   "cell_type": "markdown",
   "id": "3a6fe750",
   "metadata": {},
   "source": [
    "Given an integer array `nums` and an integer `k`, return the `k` most frequent elements. You may return the answer in `any order`.\n",
    "\n",
    "\n",
    "*Example 1*:\n",
    "```\n",
    "Input: nums = [1,1,1,2,2,3], k = 2\n",
    "Output: [1,2]\n",
    "```\n",
    "\n",
    "*Example 2*:\n",
    "```\n",
    "Input: nums = [1], k = 1\n",
    "Output: [1]\n",
    "```\n",
    "\n",
    "*Constraints*:\n",
    "\n",
    "- `1 <= nums.length <= 10^5`\n",
    "` `-10^4 <= nums[i] <= 10^4`\n",
    "- `k` is in the range `[1, the number of unique elements in the array].`\n",
    "It is *guaranteed* that the answer is `unique`.\n",
    " \n",
    "\n",
    "*Follow up*: Your algorithm's time complexity must be better than `O(n log n)`, where n is the array's size."
   ]
  },
  {
   "cell_type": "markdown",
   "id": "ba88fb05",
   "metadata": {},
   "source": [
    "# Knowledge Points"
   ]
  },
  {
   "cell_type": "markdown",
   "id": "b91b42b7",
   "metadata": {},
   "source": [
    "## collections.Counter"
   ]
  },
  {
   "cell_type": "markdown",
   "id": "3073beb8",
   "metadata": {},
   "source": [
    "### Concept"
   ]
  },
  {
   "cell_type": "markdown",
   "id": "8cabf5f3",
   "metadata": {},
   "source": [
    "[collections ](https://docs.python.org/3/library/collections.html#counter-objects)"
   ]
  },
  {
   "cell_type": "markdown",
   "id": "357ef065",
   "metadata": {},
   "source": [
    "`most_common([n])`，Return a list of the `n` most common elements and their counts from the most common to the least. If `n` is omitted or None, `most_common()` returns all elements in the counter. Elements with equal counts are ordered in the order first encountered:"
   ]
  },
  {
   "cell_type": "markdown",
   "id": "0c8a4c41",
   "metadata": {},
   "source": [
    "**Example 1**:"
   ]
  },
  {
   "cell_type": "code",
   "execution_count": 70,
   "id": "e4bcaa26",
   "metadata": {},
   "outputs": [
    {
     "data": {
      "text/plain": [
       "Counter({'a': 5, 'b': 2, 'r': 2, 'c': 1, 'd': 1})"
      ]
     },
     "execution_count": 70,
     "metadata": {},
     "output_type": "execute_result"
    }
   ],
   "source": [
    "from collections import Counter\n",
    "freq = Counter('abracadabra')\n",
    "freq"
   ]
  },
  {
   "cell_type": "code",
   "execution_count": 71,
   "id": "fe60eba1",
   "metadata": {},
   "outputs": [
    {
     "data": {
      "text/plain": [
       "[('a', 5), ('b', 2), ('r', 2)]"
      ]
     },
     "execution_count": 71,
     "metadata": {},
     "output_type": "execute_result"
    }
   ],
   "source": [
    "freq.most_common(3)"
   ]
  },
  {
   "cell_type": "code",
   "execution_count": 57,
   "id": "dafb5ef3",
   "metadata": {},
   "outputs": [
    {
     "data": {
      "text/plain": [
       "list"
      ]
     },
     "execution_count": 57,
     "metadata": {},
     "output_type": "execute_result"
    }
   ],
   "source": [
    "type(freq.most_common(3))"
   ]
  },
  {
   "cell_type": "code",
   "execution_count": 58,
   "id": "28834187",
   "metadata": {},
   "outputs": [
    {
     "data": {
      "text/plain": [
       "tuple"
      ]
     },
     "execution_count": 58,
     "metadata": {},
     "output_type": "execute_result"
    }
   ],
   "source": [
    "type(freq.most_common(3)[0])"
   ]
  },
  {
   "cell_type": "markdown",
   "id": "1df98efb",
   "metadata": {},
   "source": [
    "**Example 2**:"
   ]
  },
  {
   "cell_type": "code",
   "execution_count": 59,
   "id": "66649130",
   "metadata": {},
   "outputs": [
    {
     "data": {
      "text/plain": [
       "Counter({'red': 2, 'blue': 3, 'green': 1})"
      ]
     },
     "execution_count": 59,
     "metadata": {},
     "output_type": "execute_result"
    }
   ],
   "source": [
    "from collections import Counter\n",
    "freq = Counter(['red', 'blue', 'red', 'green', 'blue', 'blue'])\n",
    "freq"
   ]
  },
  {
   "cell_type": "code",
   "execution_count": 60,
   "id": "87a715db",
   "metadata": {},
   "outputs": [
    {
     "data": {
      "text/plain": [
       "[('blue', 3), ('red', 2)]"
      ]
     },
     "execution_count": 60,
     "metadata": {},
     "output_type": "execute_result"
    }
   ],
   "source": [
    "freq.most_common(2)"
   ]
  },
  {
   "cell_type": "code",
   "execution_count": 61,
   "id": "7d26f1af",
   "metadata": {},
   "outputs": [
    {
     "data": {
      "text/plain": [
       "list"
      ]
     },
     "execution_count": 61,
     "metadata": {},
     "output_type": "execute_result"
    }
   ],
   "source": [
    "type(freq.most_common(2))"
   ]
  },
  {
   "cell_type": "markdown",
   "id": "d9456f6a",
   "metadata": {},
   "source": [
    "## zip"
   ]
  },
  {
   "cell_type": "markdown",
   "id": "f08d9c7b",
   "metadata": {},
   "source": [
    "### Concept"
   ]
  },
  {
   "cell_type": "markdown",
   "id": "3713ebed",
   "metadata": {},
   "source": [
    "[zip](https://docs.python.org/3/library/functions.html?highlight=zip#zip)"
   ]
  },
  {
   "cell_type": "markdown",
   "id": "3bf2acc7",
   "metadata": {},
   "source": [
    "`zip(*iterables, strict=False)`, Iterate over several iterables in parallel, producing tuples with an item from each one."
   ]
  },
  {
   "cell_type": "markdown",
   "id": "5e36a970",
   "metadata": {},
   "source": [
    "**Example**:"
   ]
  },
  {
   "cell_type": "code",
   "execution_count": 62,
   "id": "a50e94ef",
   "metadata": {},
   "outputs": [
    {
     "data": {
      "text/plain": [
       "[(0, 'fee'), (1, 'fi'), (2, 'fo')]"
      ]
     },
     "execution_count": 62,
     "metadata": {},
     "output_type": "execute_result"
    }
   ],
   "source": [
    "list(zip(range(3), ['fee', 'fi', 'fo', 'fum']))"
   ]
  },
  {
   "cell_type": "markdown",
   "id": "a4a55fd7",
   "metadata": {},
   "source": [
    "## sorted"
   ]
  },
  {
   "cell_type": "markdown",
   "id": "be9cb06c",
   "metadata": {},
   "source": [
    "### Concept"
   ]
  },
  {
   "cell_type": "markdown",
   "id": "87f8ce0c",
   "metadata": {},
   "source": [
    "[Sorting HOW TO](https://docs.python.org/3/howto/sorting.html)"
   ]
  },
  {
   "cell_type": "markdown",
   "id": "a1944481",
   "metadata": {},
   "source": [
    "Both `list.sort()` and `sorted()` have a key parameter to specify a function (or other callable) to be called on each list element prior to making comparisons."
   ]
  },
  {
   "cell_type": "markdown",
   "id": "fa4c345b",
   "metadata": {},
   "source": [
    "**Example**"
   ]
  },
  {
   "cell_type": "code",
   "execution_count": 63,
   "id": "af3790e9",
   "metadata": {},
   "outputs": [
    {
     "data": {
      "text/plain": [
       "[('john', 'A', 15), ('jane', 'B', 12), ('dave', 'B', 10)]"
      ]
     },
     "execution_count": 63,
     "metadata": {},
     "output_type": "execute_result"
    }
   ],
   "source": [
    "student_tuples = [\n",
    "    ('john', 'A', 15),\n",
    "    ('jane', 'B', 12),\n",
    "    ('dave', 'B', 10),\n",
    "]\n",
    "sorted(student_tuples, key=lambda student: student[2], reverse=True)   # sort by age"
   ]
  },
  {
   "cell_type": "markdown",
   "id": "c2f1fc42",
   "metadata": {},
   "source": [
    "# Solutions"
   ]
  },
  {
   "cell_type": "markdown",
   "id": "d0537d04",
   "metadata": {},
   "source": [
    "**1.** collections.Counter\n",
    "\n",
    "- [x] use `collections.Counter().most_common()` to get a list containing tuples `(top-n most frequent keyword, frequency)`;\n",
    "- [x] use `zip` to iter over tuples to generate a list including top-n most frequently appeared keywords;"
   ]
  },
  {
   "cell_type": "code",
   "execution_count": 64,
   "id": "cabc376a",
   "metadata": {},
   "outputs": [],
   "source": [
    "import collections\n",
    "\n",
    "class Solution(object):\n",
    "    def topKFrequent(self, nums, k):\n",
    "        \"\"\"\n",
    "        :type nums: List[int]\n",
    "        :type k: int\n",
    "        :rtype: List[int]\n",
    "        \"\"\"\n",
    "        most = list(zip(*collections.Counter(nums).most_common(k)))[0]\n",
    "\n",
    "        return list(most)\n",
    "\n",
    "\n",
    "if __name__ == \"__main__\":\n",
    "    sol = Solution()\n",
    "    nums = [1,1,1,2,2,3]\n",
    "    output = sol.topKFrequent(nums=nums, k=2)"
   ]
  },
  {
   "cell_type": "code",
   "execution_count": 65,
   "id": "6d2ff21b",
   "metadata": {},
   "outputs": [
    {
     "data": {
      "text/plain": [
       "[1, 2]"
      ]
     },
     "execution_count": 65,
     "metadata": {},
     "output_type": "execute_result"
    }
   ],
   "source": [
    "output"
   ]
  },
  {
   "cell_type": "markdown",
   "id": "6321b035",
   "metadata": {},
   "source": [
    "**2.** sorted(tuples, key=lambda x: x[0])\n",
    "- [x] use `for` loop to count top k frequent keyword and its frequency into a dict;\n",
    "- [x] use `sorted(, key=function)` to sort the dict by frequency;\n",
    "- [x] use `zip` to iter over dict to generate a list containing 2 tuples;\n",
    "- [x] get top k frequent keywords from 1st tuple;"
   ]
  },
  {
   "cell_type": "code",
   "execution_count": 66,
   "id": "b4a0e958",
   "metadata": {},
   "outputs": [],
   "source": [
    "class Solution(object):\n",
    "    def topKFrequent(self, nums, k):\n",
    "        \"\"\"\n",
    "        :type nums: List[int]\n",
    "        :type k: int\n",
    "        :rtype: List[int]\n",
    "        \"\"\"\n",
    "        record = {}\n",
    "        for num in nums:\n",
    "            if num not in record:\n",
    "                record[num] = 1\n",
    "            else:\n",
    "                record[num] += 1\n",
    "\n",
    "        record = list(zip(*sorted(record.items(), key=lambda items: items[1], reverse=True)))[0][:k]\n",
    "\n",
    "        return list(record)\n",
    "\n",
    "if __name__ == \"__main__\":\n",
    "    sol = Solution()\n",
    "    nums = [4,1,-1,2,-1,2,3]\n",
    "    output = sol.topKFrequent(nums=nums, k=2)"
   ]
  },
  {
   "cell_type": "code",
   "execution_count": 67,
   "id": "203fdc6c",
   "metadata": {},
   "outputs": [
    {
     "data": {
      "text/plain": [
       "[-1, 2]"
      ]
     },
     "execution_count": 67,
     "metadata": {},
     "output_type": "execute_result"
    }
   ],
   "source": [
    "output"
   ]
  },
  {
   "cell_type": "markdown",
   "id": "d3dc7acd",
   "metadata": {},
   "source": [
    "- [x] use `for` loop to count top k frequent keyword and its frequency into a dict;\n",
    "- [x] use `sorted(, key=function)` to sort the dict by frequency;\n",
    "- [x] get top k frequent keywords from dict keys;"
   ]
  },
  {
   "cell_type": "code",
   "execution_count": 68,
   "id": "9b0a6e98",
   "metadata": {},
   "outputs": [],
   "source": [
    "class Solution(object):\n",
    "    def topKFrequent(self, nums, k):\n",
    "        \"\"\"\n",
    "        :type nums: List[int]\n",
    "        :type k: int\n",
    "        :rtype: List[int]\n",
    "        \"\"\"\n",
    "        record = {}\n",
    "        for num in nums:\n",
    "            if num not in record:\n",
    "                record[num] = 1\n",
    "            else:\n",
    "                record[num] += 1\n",
    "                \n",
    "        record = dict(sorted(record.items(), key=lambda items: items[1], reverse=True))\n",
    "\n",
    "        return list(record)[:k]\n",
    "\n",
    "\n",
    "if __name__ == \"__main__\":\n",
    "    sol = Solution()\n",
    "    nums = [4,1,-1,2,-1,2,3]\n",
    "    output = sol.topKFrequent(nums=nums, k=2)"
   ]
  },
  {
   "cell_type": "code",
   "execution_count": 69,
   "id": "9637b15d",
   "metadata": {},
   "outputs": [
    {
     "data": {
      "text/plain": [
       "[-1, 2]"
      ]
     },
     "execution_count": 69,
     "metadata": {},
     "output_type": "execute_result"
    }
   ],
   "source": [
    "output"
   ]
  }
 ],
 "metadata": {
  "kernelspec": {
   "display_name": "Python 3 (ipykernel)",
   "language": "python",
   "name": "python3"
  },
  "language_info": {
   "codemirror_mode": {
    "name": "ipython",
    "version": 3
   },
   "file_extension": ".py",
   "mimetype": "text/x-python",
   "name": "python",
   "nbconvert_exporter": "python",
   "pygments_lexer": "ipython3",
   "version": "3.9.7"
  }
 },
 "nbformat": 4,
 "nbformat_minor": 5
}